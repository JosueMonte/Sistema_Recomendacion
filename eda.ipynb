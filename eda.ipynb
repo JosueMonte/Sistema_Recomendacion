{
 "cells": [
  {
   "cell_type": "markdown",
   "metadata": {},
   "source": [
    "# Proyecto individual: Sistema de recomendación de películas\n",
    "​\n",
    "Este proyecto constará de dos fases: `Ingenieria de datos`, `Modelamiento y evaluación con machine learning`.\n",
    "\n",
    "### 1. Ingeniería de datos\n",
    "* Esto incluye la limpieza y transformación de los datos, abordando problemas como:\n",
    "    * valores faltantes, \n",
    "    * datos duplicados y variables irrelevantes,\n",
    "    * valores anidados,\n",
    "    * formateo de columnas,\n",
    "    * nubes de palabras para ver las más frecuentes.\n",
    "    * a fin de mejorar la calidad del dataset para el modelado.\n",
    "    * análisis univariado.\n",
    "    * análisis bivariado y multivariado.\n",
    "​\n",
    "### 2. Modelamiento y evaluación con machine learning\n",
    "* Implementar un modelo de clasificación con aprendizaje supervisado que permita clasificar (**con un algoritmo de coseno de similitud, por ejemplo**) las películas por ... para encontrar una lista de 5 películas similares "
   ]
  },
  {
   "cell_type": "markdown",
   "metadata": {},
   "source": [
    "### 1. Análisis exploratorio de datos\n",
    "* Esto incluye la exploración de los datos y análisis de patrones para posteriormente desarrollar el modelo de recomendación de películas:\n",
    "    * relaciones entre variables.\n",
    "    * matriz de correlación.\n",
    "    * outliers o anomalías.\n",
    "    * análisis univariado."
   ]
  },
  {
   "cell_type": "markdown",
   "metadata": {},
   "source": [
    "#### 1.1. Importación de librerías"
   ]
  },
  {
   "cell_type": "code",
   "execution_count": 1,
   "metadata": {},
   "outputs": [],
   "source": [
    "import pandas as pd \n",
    "import numpy as np \n",
    "import matplotlib.pyplot as plt \n",
    "import seaborn as sns \n",
    "\n",
    "# Mostrar figuras de matplotlib en el entorno de Jupyter Notebook\n",
    "%matplotlib inline"
   ]
  },
  {
   "cell_type": "markdown",
   "metadata": {},
   "source": [
    "#### 1.2. Carga y visualización los datos"
   ]
  },
  {
   "cell_type": "code",
   "execution_count": 2,
   "metadata": {},
   "outputs": [
    {
     "data": {
      "text/html": [
       "<div>\n",
       "<style scoped>\n",
       "    .dataframe tbody tr th:only-of-type {\n",
       "        vertical-align: middle;\n",
       "    }\n",
       "\n",
       "    .dataframe tbody tr th {\n",
       "        vertical-align: top;\n",
       "    }\n",
       "\n",
       "    .dataframe thead th {\n",
       "        text-align: right;\n",
       "    }\n",
       "</style>\n",
       "<table border=\"1\" class=\"dataframe\">\n",
       "  <thead>\n",
       "    <tr style=\"text-align: right;\">\n",
       "      <th></th>\n",
       "      <th>budget</th>\n",
       "      <th>overview</th>\n",
       "      <th>popularity</th>\n",
       "      <th>revenue</th>\n",
       "      <th>title</th>\n",
       "      <th>vote_average</th>\n",
       "      <th>vote_count</th>\n",
       "      <th>release_year</th>\n",
       "      <th>collection_name</th>\n",
       "      <th>studios_name</th>\n",
       "      <th>genres_name</th>\n",
       "      <th>return</th>\n",
       "    </tr>\n",
       "  </thead>\n",
       "  <tbody>\n",
       "    <tr>\n",
       "      <th>0</th>\n",
       "      <td>30000000.0</td>\n",
       "      <td>Led by Woody, Andy's toys live happily in his ...</td>\n",
       "      <td>21.95</td>\n",
       "      <td>373554033.0</td>\n",
       "      <td>Toy Story</td>\n",
       "      <td>7.7</td>\n",
       "      <td>5415.0</td>\n",
       "      <td>1995</td>\n",
       "      <td>Toy Story Collection</td>\n",
       "      <td>['Pixar Animation Studios']</td>\n",
       "      <td>['Animation', 'Comedy', 'Family']</td>\n",
       "      <td>12.451801</td>\n",
       "    </tr>\n",
       "    <tr>\n",
       "      <th>1</th>\n",
       "      <td>65000000.0</td>\n",
       "      <td>When siblings Judy and Peter discover an encha...</td>\n",
       "      <td>17.02</td>\n",
       "      <td>262797249.0</td>\n",
       "      <td>Jumanji</td>\n",
       "      <td>6.9</td>\n",
       "      <td>2413.0</td>\n",
       "      <td>1995</td>\n",
       "      <td>Grumpy Old Men Collection</td>\n",
       "      <td>['TriStar Pictures', 'Teitler Film', 'Intersco...</td>\n",
       "      <td>['Adventure', 'Fantasy', 'Family']</td>\n",
       "      <td>4.043035</td>\n",
       "    </tr>\n",
       "  </tbody>\n",
       "</table>\n",
       "</div>"
      ],
      "text/plain": [
       "       budget                                           overview  popularity  \\\n",
       "0  30000000.0  Led by Woody, Andy's toys live happily in his ...       21.95   \n",
       "1  65000000.0  When siblings Judy and Peter discover an encha...       17.02   \n",
       "\n",
       "       revenue      title  vote_average  vote_count  release_year  \\\n",
       "0  373554033.0  Toy Story           7.7      5415.0          1995   \n",
       "1  262797249.0    Jumanji           6.9      2413.0          1995   \n",
       "\n",
       "             collection_name  \\\n",
       "0       Toy Story Collection   \n",
       "1  Grumpy Old Men Collection   \n",
       "\n",
       "                                        studios_name  \\\n",
       "0                        ['Pixar Animation Studios']   \n",
       "1  ['TriStar Pictures', 'Teitler Film', 'Intersco...   \n",
       "\n",
       "                          genres_name     return  \n",
       "0   ['Animation', 'Comedy', 'Family']  12.451801  \n",
       "1  ['Adventure', 'Fantasy', 'Family']   4.043035  "
      ]
     },
     "execution_count": 2,
     "metadata": {},
     "output_type": "execute_result"
    }
   ],
   "source": [
    "df_ml = pd.read_csv('dataset/data_movies_ml.csv')\n",
    "df_ml.head(2)"
   ]
  },
  {
   "cell_type": "markdown",
   "metadata": {},
   "source": [
    "#### 1.3. Descripción del DataFrame"
   ]
  },
  {
   "cell_type": "code",
   "execution_count": 3,
   "metadata": {},
   "outputs": [
    {
     "name": "stdout",
     "output_type": "stream",
     "text": [
      "<class 'pandas.core.frame.DataFrame'>\n",
      "RangeIndex: 39901 entries, 0 to 39900\n",
      "Data columns (total 12 columns):\n",
      " #   Column           Non-Null Count  Dtype  \n",
      "---  ------           --------------  -----  \n",
      " 0   budget           39901 non-null  float64\n",
      " 1   overview         23751 non-null  object \n",
      " 2   popularity       23802 non-null  float64\n",
      " 3   revenue          39901 non-null  float64\n",
      " 4   title            23802 non-null  object \n",
      " 5   vote_average     23802 non-null  float64\n",
      " 6   vote_count       39901 non-null  float64\n",
      " 7   release_year     39901 non-null  int64  \n",
      " 8   collection_name  2445 non-null   object \n",
      " 9   studios_name     24413 non-null  object \n",
      " 10  genres_name      34637 non-null  object \n",
      " 11  return           39901 non-null  float64\n",
      "dtypes: float64(6), int64(1), object(5)\n",
      "memory usage: 3.7+ MB\n"
     ]
    }
   ],
   "source": [
    "df_ml.info()"
   ]
  },
  {
   "cell_type": "markdown",
   "metadata": {},
   "source": [
    "#### 1.4. Eliminación de variables cualitativas"
   ]
  },
  {
   "cell_type": "code",
   "execution_count": 4,
   "metadata": {},
   "outputs": [],
   "source": [
    "df_ml = df_ml.drop(['collection_name', 'overview'], axis=1)"
   ]
  },
  {
   "cell_type": "code",
   "execution_count": 5,
   "metadata": {},
   "outputs": [
    {
     "name": "stdout",
     "output_type": "stream",
     "text": [
      "<class 'pandas.core.frame.DataFrame'>\n",
      "RangeIndex: 39901 entries, 0 to 39900\n",
      "Data columns (total 10 columns):\n",
      " #   Column        Non-Null Count  Dtype  \n",
      "---  ------        --------------  -----  \n",
      " 0   budget        39901 non-null  float64\n",
      " 1   popularity    23802 non-null  float64\n",
      " 2   revenue       39901 non-null  float64\n",
      " 3   title         23802 non-null  object \n",
      " 4   vote_average  23802 non-null  float64\n",
      " 5   vote_count    39901 non-null  float64\n",
      " 6   release_year  39901 non-null  int64  \n",
      " 7   studios_name  24413 non-null  object \n",
      " 8   genres_name   34637 non-null  object \n",
      " 9   return        39901 non-null  float64\n",
      "dtypes: float64(6), int64(1), object(3)\n",
      "memory usage: 3.0+ MB\n"
     ]
    }
   ],
   "source": [
    "df_ml.info()"
   ]
  },
  {
   "cell_type": "markdown",
   "metadata": {},
   "source": [
    "#### 1.5. Eliminación de nulos"
   ]
  },
  {
   "cell_type": "code",
   "execution_count": 6,
   "metadata": {},
   "outputs": [],
   "source": [
    "df_ml = df_ml.dropna()"
   ]
  },
  {
   "cell_type": "code",
   "execution_count": 7,
   "metadata": {},
   "outputs": [
    {
     "data": {
      "text/plain": [
       "budget          0\n",
       "popularity      0\n",
       "revenue         0\n",
       "title           0\n",
       "vote_average    0\n",
       "vote_count      0\n",
       "release_year    0\n",
       "studios_name    0\n",
       "genres_name     0\n",
       "return          0\n",
       "dtype: int64"
      ]
     },
     "execution_count": 7,
     "metadata": {},
     "output_type": "execute_result"
    }
   ],
   "source": [
    "df_ml.isnull().sum()"
   ]
  },
  {
   "cell_type": "markdown",
   "metadata": {},
   "source": [
    "#### 1.6. Observaciones"
   ]
  },
  {
   "cell_type": "markdown",
   "metadata": {},
   "source": [
    "* 1.6.1. Se observa que para realizar el modelo de machine learning, será necesario eliminar la variable collection_name dado que cuenta con pocos datos en relación con los demás. \n",
    "* 1.6.2. Se procederá a eliminar los nulos en las columnas restantes dado que se cuenta con muchos datos, cerca de 23000, suficiente para el modelo.\n",
    "* 1.6.3. Hay variables categóricas que deberán ser convertidas en numéricas, pero considerando que se trata de un MVP, para no cargar el modelo, se procederá a eliminar también estas variables y virar a un modelo sencillo pero que funcione correctamente en render.\n",
    "* 1.6.4. Se decide trabajar solo con variables numéricas, y realizar un features importance para ver las variables más importantes."
   ]
  },
  {
   "cell_type": "markdown",
   "metadata": {},
   "source": [
    "#### 1.7. Distribución de los valores en columnas numéricas en histogramas "
   ]
  },
  {
   "cell_type": "code",
   "execution_count": 8,
   "metadata": {},
   "outputs": [
    {
     "name": "stdout",
     "output_type": "stream",
     "text": [
      "Configurando límites para budget: (0, 10000000.0)\n",
      "Configurando límites para popularity: (0, 30)\n",
      "Configurando límites para revenue: (0, 100000000.0)\n",
      "Configurando límites para vote_average: (0, 10)\n",
      "Configurando límites para vote_count: (0, 1500)\n",
      "Configurando límites para release_year: (1980, 2025)\n",
      "Configurando límites para return: (0, 1000000.0)\n"
     ]
    },
    {
     "data": {
      "image/png": "[encoded data removed]",
      "text/plain": [
       "<Figure size 1400x800 with 8 Axes>"
      ]
     },
     "metadata": {},
     "output_type": "display_data"
    }
   ],
   "source": [
    "import matplotlib.pyplot as plt\n",
    "\n",
    "# Búsqueda de valores atípicos (outliers) mediante histogramas\n",
    "numeric_columns = df_ml.select_dtypes(include='number')\n",
    "num_columns = len(numeric_columns.columns)\n",
    "\n",
    "num_rows = (num_columns // 2) + (num_columns % 2)\n",
    "num_cols = 2\n",
    "\n",
    "fig, axes = plt.subplots(num_rows, num_cols, figsize=(14, 8))\n",
    "\n",
    "axes = axes.flatten()\n",
    "\n",
    "# Definir límites personalizados para cada columna\n",
    "limites = {\n",
    "    'budget': (0, 1e7),\n",
    "    'popularity': (0, 30),\n",
    "    'revenue': (0, 1e8),\n",
    "    'vote_count': (0, 1500),\n",
    "    'return': (0, 1e6),\n",
    "    'vote_average': (0, 10),\n",
    "    'release_year': (1980, 2025)  \n",
    "}\n",
    "\n",
    "# Establecer el número de bins para cada columna\n",
    "bins_dict = {\n",
    "    'budget': 1000,\n",
    "    'popularity': 1000,\n",
    "    'revenue': 1000,\n",
    "    'vote_count': 1000,\n",
    "    'return': 1000,\n",
    "    'vote_average': 50,\n",
    "    'release_year': 50\n",
    "}\n",
    "\n",
    "for i, col in enumerate(numeric_columns.columns):\n",
    "    bins = bins_dict.get(col, 100)  # Usar 100 bins por defecto si no está en el diccionario\n",
    "    axes[i].hist(df_ml[col], bins=bins, color='#474559', edgecolor='white')\n",
    "    axes[i].set_title(col)\n",
    "    \n",
    "    # Aplicar los límites si están definidos en el diccionario\n",
    "    if col in limites:\n",
    "        print(f\"Configurando límites para {col}: {limites[col]}\")\n",
    "        axes[i].set_xlim(limites[col])\n",
    "\n",
    "plt.tight_layout()\n",
    "plt.show()\n"
   ]
  },
  {
   "cell_type": "markdown",
   "metadata": {},
   "source": [
    "#### 1.8. Observaciones:\n",
    "* 1.8.1 Se observa que las variables budget, revenue, vote_count y return presentan una distribución concentrada en valores inferiores, es decir, sesgada a la derecha. \n",
    "* 1.8.2. Se interpreta que estos valores anómalos, es decir, extremos a la derecha, corresponden al sector, ya que la mayoria de las peliculas cuentan con cierto capital, y muy pocas, gastan en demasía.\n",
    "* 1.8.3. A priori, se decide no eliminar los outliers porque el sistema de recomendación se quedaria sin valores en los extremos y terminaría recomendando mal. Se examinará con boxplots"
   ]
  },
  {
   "cell_type": "markdown",
   "metadata": {},
   "source": [
    "#### 1.9. Distribución de los valores en columnas numéricas en boxplots"
   ]
  },
  {
   "cell_type": "code",
   "execution_count": 9,
   "metadata": {},
   "outputs": [
    {
     "name": "stdout",
     "output_type": "stream",
     "text": [
      "Configurando límites para budget: (0, 10000000.0)\n",
      "Configurando límites para popularity: (0, 300)\n",
      "Configurando límites para revenue: (0, 2000000000.0)\n",
      "Configurando límites para vote_average: (0, 10)\n",
      "Configurando límites para vote_count: (0, 15000)\n",
      "Configurando límites para release_year: (1980, 2025)\n",
      "Configurando límites para return: (0, 15000000.0)\n"
     ]
    },
    {
     "data": {
      "image/png": "[encoded data removed]",
      "text/plain": [
       "<Figure size 1400x800 with 8 Axes>"
      ]
     },
     "metadata": {},
     "output_type": "display_data"
    }
   ],
   "source": [
    "import matplotlib.pyplot as plt\n",
    "\n",
    "# Búsqueda de valores atípicos (outliers) mediante boxplots\n",
    "numeric_columns = df_ml.select_dtypes(include='number')\n",
    "num_columns = len(numeric_columns.columns)\n",
    "\n",
    "num_rows = (num_columns // 2) + (num_columns % 2)\n",
    "num_cols = 2\n",
    "\n",
    "fig, axes = plt.subplots(num_rows, num_cols, figsize=(14, 8))\n",
    "\n",
    "axes = axes.flatten()\n",
    "\n",
    "# Definir límites personalizados para cada columna\n",
    "limites = {\n",
    "    'budget': (0, 1e7),\n",
    "    'popularity': (0, 300),\n",
    "    'revenue': (0, 2e9),\n",
    "    'vote_count': (0, 15000),\n",
    "    'return': (0, 1.5e7),\n",
    "    'vote_average': (0, 10),\n",
    "    'release_year': (1980, 2025)  \n",
    "}\n",
    "\n",
    "for i, col in enumerate(numeric_columns.columns):\n",
    "    axes[i].boxplot(df_ml[col].dropna(), vert=False, patch_artist=True)\n",
    "    axes[i].set_title(col)\n",
    "    \n",
    "    # Aplicar los límites si están definidos en el diccionario\n",
    "    if col in limites:\n",
    "        print(f\"Configurando límites para {col}: {limites[col]}\")\n",
    "        axes[i].set_xlim(limites[col])\n",
    "\n",
    "plt.tight_layout()\n",
    "plt.show()\n"
   ]
  },
  {
   "cell_type": "markdown",
   "metadata": {},
   "source": [
    "#### 1.10. Máximos en la variable return:"
   ]
  },
  {
   "cell_type": "code",
   "execution_count": 10,
   "metadata": {},
   "outputs": [
    {
     "name": "stdout",
     "output_type": "stream",
     "text": [
      "Las 10 películas con mayor 'return' son:\n",
      "                         title        return\n",
      "2830            Less Than Zero  1.239638e+07\n",
      "12489           Aquí Entre Nos  2.755584e+06\n",
      "1732   The Karate Kid, Part II  1.018619e+06\n",
      "9416        From Prada to Nada  2.688172e+04\n",
      "8301       Paranormal Activity  1.289039e+04\n",
      "5275                 Tarnation  5.330339e+03\n",
      "1929   The Blair Witch Project  4.133333e+03\n",
      "10663  Love, Wedding, Marriage  1.378000e+03\n",
      "5088             Super Size Me  4.396166e+02\n",
      "5741                Open Water  4.205227e+02\n"
     ]
    }
   ],
   "source": [
    "import pandas as pd\n",
    "\n",
    "# Supongamos que df_ml es tu DataFrame\n",
    "# Asegúrate de que el DataFrame tiene una columna llamada 'title' y 'return'\n",
    "\n",
    "# Ordenar el DataFrame por la columna 'return' en orden descendente\n",
    "df_sorted = df_ml.sort_values(by='return', ascending=False)\n",
    "\n",
    "# Seleccionar las 10 películas con mayor 'return'\n",
    "top_10_return = df_sorted[['title', 'return']].head(10)\n",
    "\n",
    "print(\"Las 10 películas con mayor 'return' son:\")\n",
    "print(top_10_return)\n"
   ]
  },
  {
   "cell_type": "markdown",
   "metadata": {},
   "source": [
    "#### 1.11. Observaciones:\n",
    "* 1.11.1 Se observa que existe las primeras 4 películas podrian ser eliminadas, dado que son verdaderamente, extremos, pero se dejará a que corra el modelo y se probará si conviene su eliminación o no."
   ]
  },
  {
   "cell_type": "markdown",
   "metadata": {},
   "source": [
    "#### 1.12. Análisis de duplicados"
   ]
  },
  {
   "cell_type": "markdown",
   "metadata": {},
   "source": [
    "1.12.1. Se crean dos variables, una con duplicados y la otra sin duplicados. Se usará el dataframe sin duplicados"
   ]
  },
  {
   "cell_type": "code",
   "execution_count": 11,
   "metadata": {},
   "outputs": [
    {
     "name": "stdout",
     "output_type": "stream",
     "text": [
      "Filas duplicadas (basadas en todas la columna 'title'):\n",
      "           budget  popularity      revenue                         title  \\\n",
      "1837          0.0       11.60          0.0                    True Crime   \n",
      "2476    2000000.0       12.90    1568749.0                        Hamlet   \n",
      "2545          0.0       12.50   20710451.0                        Hamlet   \n",
      "2593          0.0        1.43          0.0                    Wonderland   \n",
      "3361          0.0        0.01          0.0                        D.O.A.   \n",
      "...           ...         ...          ...                           ...   \n",
      "13408  50000000.0        9.09  160602194.0                Into the Storm   \n",
      "13428         0.0        1.24          0.0  20,000 Leagues Under the Sea   \n",
      "13434  13200000.0       24.64   53830415.0                  No Good Deed   \n",
      "13439         0.0        0.18          0.0                     Catacombs   \n",
      "13567         0.0        3.85          0.0               Sleeping Beauty   \n",
      "\n",
      "       vote_average  vote_count  release_year  \\\n",
      "1837            6.3       146.0          1999   \n",
      "2476            6.0        35.0          2000   \n",
      "2545            6.7        95.0          1990   \n",
      "2593            6.9         8.0          1999   \n",
      "3361            2.4         4.0          1980   \n",
      "...             ...         ...           ...   \n",
      "13408           5.8       829.0          2014   \n",
      "13428           6.3         3.0          1997   \n",
      "13434           5.6       182.0          2014   \n",
      "13439           4.4         7.0          1988   \n",
      "13567           4.7        28.0          2014   \n",
      "\n",
      "                                            studios_name  \\\n",
      "1837                               ['American Zoetrope']   \n",
      "2476                                  ['Orion Pictures']   \n",
      "2545                                                  []   \n",
      "2593                              ['Universal Pictures']   \n",
      "3361   ['Twentieth Century Fox Film Corporation', 'Pe...   \n",
      "...                                                  ...   \n",
      "13408                                                 []   \n",
      "13428                                                 []   \n",
      "13434                                                 []   \n",
      "13439                                                 []   \n",
      "13567                                                 []   \n",
      "\n",
      "                   genres_name    return  \n",
      "1837      ['Drama', 'Romance']  0.000000  \n",
      "2476   ['Mystery', 'Thriller']  0.784374  \n",
      "2545      ['Action', 'Comedy']  0.000000  \n",
      "2593      ['Action', 'Comedy']  0.000000  \n",
      "3361      ['Action', 'Comedy']  0.000000  \n",
      "...                        ...       ...  \n",
      "13408                       []  3.212044  \n",
      "13428                       []  0.000000  \n",
      "13434                       []  4.078062  \n",
      "13439                       []  0.000000  \n",
      "13567                       []  0.000000  \n",
      "\n",
      "[342 rows x 10 columns]\n"
     ]
    }
   ],
   "source": [
    "# Mostrar las filas duplicadas en la columna título\n",
    "df_ml_cd = df_ml.duplicated(subset=['title'])\n",
    "print(\"Filas duplicadas (basadas en todas la columna 'title'):\") \n",
    "print(df_ml[df_ml_cd])"
   ]
  },
  {
   "cell_type": "code",
   "execution_count": 12,
   "metadata": {},
   "outputs": [
    {
     "data": {
      "text/html": [
       "<div>\n",
       "<style scoped>\n",
       "    .dataframe tbody tr th:only-of-type {\n",
       "        vertical-align: middle;\n",
       "    }\n",
       "\n",
       "    .dataframe tbody tr th {\n",
       "        vertical-align: top;\n",
       "    }\n",
       "\n",
       "    .dataframe thead th {\n",
       "        text-align: right;\n",
       "    }\n",
       "</style>\n",
       "<table border=\"1\" class=\"dataframe\">\n",
       "  <thead>\n",
       "    <tr style=\"text-align: right;\">\n",
       "      <th></th>\n",
       "      <th>budget</th>\n",
       "      <th>popularity</th>\n",
       "      <th>revenue</th>\n",
       "      <th>title</th>\n",
       "      <th>vote_average</th>\n",
       "      <th>vote_count</th>\n",
       "      <th>release_year</th>\n",
       "      <th>studios_name</th>\n",
       "      <th>genres_name</th>\n",
       "      <th>return</th>\n",
       "    </tr>\n",
       "  </thead>\n",
       "  <tbody>\n",
       "    <tr>\n",
       "      <th>0</th>\n",
       "      <td>30000000.0</td>\n",
       "      <td>21.95</td>\n",
       "      <td>373554033.0</td>\n",
       "      <td>Toy Story</td>\n",
       "      <td>7.7</td>\n",
       "      <td>5415.0</td>\n",
       "      <td>1995</td>\n",
       "      <td>['Pixar Animation Studios']</td>\n",
       "      <td>['Animation', 'Comedy', 'Family']</td>\n",
       "      <td>12.451801</td>\n",
       "    </tr>\n",
       "    <tr>\n",
       "      <th>1</th>\n",
       "      <td>65000000.0</td>\n",
       "      <td>17.02</td>\n",
       "      <td>262797249.0</td>\n",
       "      <td>Jumanji</td>\n",
       "      <td>6.9</td>\n",
       "      <td>2413.0</td>\n",
       "      <td>1995</td>\n",
       "      <td>['TriStar Pictures', 'Teitler Film', 'Intersco...</td>\n",
       "      <td>['Adventure', 'Fantasy', 'Family']</td>\n",
       "      <td>4.043035</td>\n",
       "    </tr>\n",
       "  </tbody>\n",
       "</table>\n",
       "</div>"
      ],
      "text/plain": [
       "       budget  popularity      revenue      title  vote_average  vote_count  \\\n",
       "0  30000000.0       21.95  373554033.0  Toy Story           7.7      5415.0   \n",
       "1  65000000.0       17.02  262797249.0    Jumanji           6.9      2413.0   \n",
       "\n",
       "   release_year                                       studios_name  \\\n",
       "0          1995                        ['Pixar Animation Studios']   \n",
       "1          1995  ['TriStar Pictures', 'Teitler Film', 'Intersco...   \n",
       "\n",
       "                          genres_name     return  \n",
       "0   ['Animation', 'Comedy', 'Family']  12.451801  \n",
       "1  ['Adventure', 'Fantasy', 'Family']   4.043035  "
      ]
     },
     "execution_count": 12,
     "metadata": {},
     "output_type": "execute_result"
    }
   ],
   "source": [
    "df_ml_sd = df_ml.drop_duplicates(subset=['title'])\n",
    "df_ml_sd.head(2)"
   ]
  },
  {
   "cell_type": "code",
   "execution_count": 13,
   "metadata": {},
   "outputs": [
    {
     "name": "stdout",
     "output_type": "stream",
     "text": [
      "<class 'pandas.core.frame.DataFrame'>\n",
      "Index: 13236 entries, 0 to 13577\n",
      "Data columns (total 10 columns):\n",
      " #   Column        Non-Null Count  Dtype  \n",
      "---  ------        --------------  -----  \n",
      " 0   budget        13236 non-null  float64\n",
      " 1   popularity    13236 non-null  float64\n",
      " 2   revenue       13236 non-null  float64\n",
      " 3   title         13236 non-null  object \n",
      " 4   vote_average  13236 non-null  float64\n",
      " 5   vote_count    13236 non-null  float64\n",
      " 6   release_year  13236 non-null  int64  \n",
      " 7   studios_name  13236 non-null  object \n",
      " 8   genres_name   13236 non-null  object \n",
      " 9   return        13236 non-null  float64\n",
      "dtypes: float64(6), int64(1), object(3)\n",
      "memory usage: 1.1+ MB\n"
     ]
    }
   ],
   "source": [
    "df_ml_sd.info()"
   ]
  },
  {
   "cell_type": "markdown",
   "metadata": {},
   "source": [
    "#### 1.13. Optimización del código"
   ]
  },
  {
   "cell_type": "markdown",
   "metadata": {},
   "source": [
    "Debido a que el código se demora mucho para hacer el algoritmo, se opta por reducir la cantidad de filas"
   ]
  },
  {
   "cell_type": "code",
   "execution_count": 14,
   "metadata": {},
   "outputs": [],
   "source": [
    "# Filtrar el DataFrame por la columna 'vote_average' con valores mayores a 3\n",
    "df_ml_filter = df_ml_sd[df_ml_sd['vote_average'] > 3]\n",
    "\n",
    "# Filtrar el DataFrame donde la columna return sea igual a 0 (esto quiere decir que o budget fue igual a 0 o revenue, y probablemente sean errores de carga de datos)\n",
    "df_ml_filter = df_ml_filter[df_ml_filter['return'] > 0]\n",
    "\n",
    "# Filtrar el DataFrame donde la columna renevue sea mayor a 1.75 e9 (hay pocos datos arriba de ellos y podría distorsionar el algoritmo de recomendación)\n",
    "df_ml_filter = df_ml_filter[df_ml_filter['revenue'] < 1.75e9]\n",
    "\n",
    "# Filtrar el DataFrame donde la columna return sea mayor a 1e5 (hay pocos datos arriba de ellos y podría distorsionar el algoritmo de recomendación)\n",
    "df_ml_filter = df_ml_filter[df_ml_filter['return'] < 1e5]\n"
   ]
  },
  {
   "cell_type": "code",
   "execution_count": 15,
   "metadata": {},
   "outputs": [
    {
     "name": "stdout",
     "output_type": "stream",
     "text": [
      "<class 'pandas.core.frame.DataFrame'>\n",
      "Index: 3656 entries, 0 to 13576\n",
      "Data columns (total 10 columns):\n",
      " #   Column        Non-Null Count  Dtype  \n",
      "---  ------        --------------  -----  \n",
      " 0   budget        3656 non-null   float64\n",
      " 1   popularity    3656 non-null   float64\n",
      " 2   revenue       3656 non-null   float64\n",
      " 3   title         3656 non-null   object \n",
      " 4   vote_average  3656 non-null   float64\n",
      " 5   vote_count    3656 non-null   float64\n",
      " 6   release_year  3656 non-null   int64  \n",
      " 7   studios_name  3656 non-null   object \n",
      " 8   genres_name   3656 non-null   object \n",
      " 9   return        3656 non-null   float64\n",
      "dtypes: float64(6), int64(1), object(3)\n",
      "memory usage: 314.2+ KB\n"
     ]
    }
   ],
   "source": [
    "# Ordenar el DataFrame por la columna 'budget' en orden ascendente\n",
    "df_ml_filter.info()\n"
   ]
  },
  {
   "cell_type": "code",
   "execution_count": 24,
   "metadata": {},
   "outputs": [],
   "source": [
    "df_ml_filter = df_ml_filter.to_csv('dataset/data_movies_ml.csv', index=False)"
   ]
  },
  {
   "cell_type": "markdown",
   "metadata": {},
   "source": [
    "## 2. Modelamiento y evaluación"
   ]
  },
  {
   "cell_type": "markdown",
   "metadata": {},
   "source": [
    "#### 2.1. Importación de la librería"
   ]
  },
  {
   "cell_type": "code",
   "execution_count": 16,
   "metadata": {},
   "outputs": [],
   "source": [
    "from sklearn.feature_extraction.text import TfidfVectorizer\n",
    "from sklearn.metrics.pairwise import cosine_similarity"
   ]
  },
  {
   "cell_type": "markdown",
   "metadata": {},
   "source": [
    "#### 2.2. Creación y entrenamiento del modelo considerando solo valores cualitativos"
   ]
  },
  {
   "cell_type": "code",
   "execution_count": 17,
   "metadata": {},
   "outputs": [
    {
     "name": "stdout",
     "output_type": "stream",
     "text": [
      "Las 5 películas más recomendadas para Babe son:\n",
      "                              title  vote_average  popularity  release_year\n",
      "                    The Frighteners           6.7       12.09          1996\n",
      "                Legends of the Fall           7.2       12.20          1994\n",
      "                              Speed           6.8       10.86          1994\n",
      "The Naked Gun 33⅓: The Final Insult           6.4       10.59          1994\n",
      "                         Cool World           4.9       11.78          1992\n"
     ]
    }
   ],
   "source": [
    "# Primero, vamos a convertir la columna 'title' a una representación numérica usando TF-IDF\n",
    "vectorizer = TfidfVectorizer()\n",
    "tfidf_matrix = vectorizer.fit_transform(df_ml_filter['title'])\n",
    "\n",
    "# Luego, vamos a añadir las columnas numéricas a nuestra matriz de características\n",
    "features = np.column_stack([tfidf_matrix.toarray(),\n",
    "                            df_ml_filter['budget'], \n",
    "                            df_ml_filter['vote_average'], \n",
    "                            df_ml_filter['popularity'],\n",
    "                            df_ml_filter['release_year']])\n",
    "\n",
    "# Reindexamos el DataFrame\n",
    "data = df_ml_filter.reset_index(drop=True)\n",
    "\n",
    "# Ahora, calculamos la matriz de similitud de coseno\n",
    "similarity_matrix = cosine_similarity(features)\n",
    "\n",
    "# Para hacer recomendaciones, puedes buscar los productos más similares a un producto dado\n",
    "name_title = \"Babe\"  # El nombre del producto para el que quieres hacer recomendaciones\n",
    "name_films = data[data['title'] == name_title]\n",
    "\n",
    "if not name_films.empty:\n",
    "    product_index = name_films.index[0]\n",
    "    product_similarities = similarity_matrix[product_index]\n",
    "    \n",
    "    # Se obtienen los índices de las 5 películas más similares (ordenados de forma descendente), excluyendo la propia película\n",
    "    most_similar_films_indices = np.argsort(-product_similarities)[1:6]\n",
    "    most_similar_films = data.loc[most_similar_films_indices, ['title', 'vote_average', 'popularity', 'release_year']]\n",
    "    print(f\"Las 5 películas más recomendadas para {name_title} son:\")\n",
    "    print(most_similar_films.to_string(index=False))\n",
    "else:\n",
    "    print(\"Película no encontrada\")\n"
   ]
  },
  {
   "cell_type": "code",
   "execution_count": 18,
   "metadata": {},
   "outputs": [
    {
     "name": "stdout",
     "output_type": "stream",
     "text": [
      "Las 5 películas más recomendadas para Babe son:\n",
      "                              title  vote_average                     genres_name  release_year\n",
      "                Legends of the Fall           7.2  ['Comedy', 'Drama', 'Romance']          1994\n",
      "                    The Frighteners           6.7            ['Drama', 'Romance']          1996\n",
      "The Naked Gun 33⅓: The Final Insult           6.4 ['Comedy', 'Family', 'Fantasy']          1994\n",
      "                        Primal Fear           7.4         ['Adventure', 'Family']          1996\n",
      "                              Speed           6.8  ['Comedy', 'Drama', 'Romance']          1994\n"
     ]
    }
   ],
   "source": [
    "from sklearn.preprocessing import MultiLabelBinarizer\n",
    "from sklearn.feature_extraction.text import TfidfVectorizer\n",
    "from sklearn.metrics.pairwise import cosine_similarity\n",
    "\n",
    "# Vectorizar la columna 'title' usando TF-IDF\n",
    "vectorizer = TfidfVectorizer()\n",
    "tfidf_matrix = vectorizer.fit_transform(df_ml_filter['title'])\n",
    "\n",
    "# Codificar la columna 'genres_name' usando MultiLabelBinarizer\n",
    "mlb = MultiLabelBinarizer()\n",
    "genres_encoded = mlb.fit_transform(df_ml_filter['genres_name'])\n",
    "\n",
    "# Luego, vamos a añadir las columnas numéricas y la matriz de géneros a nuestra matriz de características\n",
    "features = np.column_stack([tfidf_matrix.toarray(),\n",
    "                            df_ml_filter['budget'], \n",
    "                            df_ml_filter['vote_average'], \n",
    "                            df_ml_filter['popularity'],\n",
    "                            df_ml_filter['release_year'],\n",
    "                            genres_encoded])\n",
    "\n",
    "# Reindexamos el DataFrame\n",
    "data = df_ml_filter.reset_index(drop=True)\n",
    "\n",
    "# Ahora, calculamos la matriz de similitud de coseno\n",
    "similarity_matrix = cosine_similarity(features)\n",
    "\n",
    "# Para hacer recomendaciones, puedes buscar los productos más similares a un producto dado\n",
    "name_title = \"Babe\"  # El nombre de la película para la cual quieres hacer recomendaciones\n",
    "name_films = data[data['title'] == name_title]\n",
    "\n",
    "if not name_films.empty:\n",
    "    product_index = name_films.index[0]\n",
    "    product_similarities = similarity_matrix[product_index]\n",
    "    \n",
    "    # Se obtienen los índices de las 5 películas más similares (ordenados de forma descendente), excluyendo la propia película\n",
    "    most_similar_products_indices = np.argsort(-product_similarities)[1:6]\n",
    "    \n",
    "    # Obtener los títulos, vote_average y release_year de las 5 películas más similares\n",
    "    most_similar_products = data.loc[most_similar_products_indices, ['title', 'vote_average', 'genres_name', 'release_year']]\n",
    "    \n",
    "    print(f\"Las 5 películas más recomendadas para {name_title} son:\")\n",
    "    print(most_similar_products.to_string(index=False))\n",
    "else:\n",
    "    print(\"Película no encontrada\")\n"
   ]
  },
  {
   "cell_type": "code",
   "execution_count": 19,
   "metadata": {},
   "outputs": [
    {
     "name": "stdout",
     "output_type": "stream",
     "text": [
      "Las 5 películas más recomendadas para Babe son:\n",
      "                              title  vote_average                     genres_name                                                           studios_name  release_year\n",
      "                Legends of the Fall           7.2  ['Comedy', 'Drama', 'Romance']                                                 ['Hollywood Pictures']          1994\n",
      "                    The Frighteners           6.7            ['Drama', 'Romance']                                         ['Merchant Ivory Productions']          1996\n",
      "The Naked Gun 33⅓: The Final Insult           6.4 ['Comedy', 'Family', 'Fantasy']    ['Paramount Pictures', 'Orion Pictures', 'Scott Rudin Productions']          1994\n",
      "                        Primal Fear           7.4         ['Adventure', 'Family']         ['Universal Pictures', 'The Bubble Factory', 'American Films']          1996\n",
      "                              Speed           6.8  ['Comedy', 'Drama', 'Romance'] ['Fine Line Features', 'Castle Rock Entertainment', 'Barcelona Films']          1994\n"
     ]
    }
   ],
   "source": [
    "from sklearn.preprocessing import MultiLabelBinarizer\n",
    "from sklearn.feature_extraction.text import TfidfVectorizer\n",
    "from sklearn.metrics.pairwise import cosine_similarity\n",
    "\n",
    "# Vectorizar la columna 'title' usando TF-IDF\n",
    "vectorizer = TfidfVectorizer()\n",
    "tfidf_matrix = vectorizer.fit_transform(df_ml_filter['title'])\n",
    "\n",
    "# Codificar la columna 'genres_name' y 'studios_name' usando MultiLabelBinarizer\n",
    "mlb = MultiLabelBinarizer()\n",
    "genres_encoded = mlb.fit_transform(df_ml_filter['genres_name'])\n",
    "studios_encoded = mlb.fit_transform(df_ml_filter['studios_name'])\n",
    "\n",
    "# Luego, vamos a añadir las columnas numéricas y la matriz de géneros a nuestra matriz de características\n",
    "features = np.column_stack([tfidf_matrix.toarray(),\n",
    "                            df_ml_filter['budget'], \n",
    "                            df_ml_filter['vote_average'], \n",
    "                            df_ml_filter['popularity'],\n",
    "                            df_ml_filter['release_year'],\n",
    "                            genres_encoded,\n",
    "                            studios_encoded])\n",
    "\n",
    "# Reindexamos el DataFrame\n",
    "data = df_ml_filter.reset_index(drop=True)\n",
    "\n",
    "# Ahora, calculamos la matriz de similitud de coseno\n",
    "similarity_matrix = cosine_similarity(features)\n",
    "\n",
    "# Para hacer recomendaciones, puedes buscar los productos más similares a un producto dado\n",
    "name_title = \"Babe\"  # El nombre de la película para la cual quieres hacer recomendaciones\n",
    "name_films = data[data['title'] == name_title]\n",
    "\n",
    "if not name_films.empty:\n",
    "    product_index = name_films.index[0]\n",
    "    product_similarities = similarity_matrix[product_index]\n",
    "    \n",
    "    # Se obtienen los índices de las 5 películas más similares (ordenados de forma descendente), excluyendo la propia película\n",
    "    most_similar_products_indices = np.argsort(-product_similarities)[1:6]\n",
    "    \n",
    "    # Obtener los títulos, vote_average y release_year de las 5 películas más similares\n",
    "    most_similar_products = data.loc[most_similar_products_indices, ['title', 'vote_average', 'genres_name', 'studios_name', 'release_year']]\n",
    "    \n",
    "    print(f\"Las 5 películas más recomendadas para {name_title} son:\")\n",
    "    print(most_similar_products.to_string(index=False))\n",
    "else:\n",
    "    print(\"Película no encontrada\")\n"
   ]
  },
  {
   "cell_type": "code",
   "execution_count": 20,
   "metadata": {},
   "outputs": [
    {
     "name": "stdout",
     "output_type": "stream",
     "text": [
      "Las 5 películas más recomendadas para Babe son:\n",
      "['Legends of the Fall', 'The Frighteners', 'The Naked Gun 33⅓: The Final Insult', 'Primal Fear', 'Speed']\n"
     ]
    }
   ],
   "source": [
    "from sklearn.preprocessing import MultiLabelBinarizer\n",
    "from sklearn.feature_extraction.text import TfidfVectorizer\n",
    "from sklearn.metrics.pairwise import cosine_similarity\n",
    "\n",
    "# Vectorizar la columna 'title' usando TF-IDF\n",
    "vectorizer = TfidfVectorizer()\n",
    "tfidf_matrix = vectorizer.fit_transform(df_ml_filter['title'])\n",
    "\n",
    "# Codificar la columna 'genres_name' y 'studios_name' usando MultiLabelBinarizer\n",
    "mlb = MultiLabelBinarizer()\n",
    "genres_encoded = mlb.fit_transform(df_ml_filter['genres_name'])\n",
    "studios_encoded = mlb.fit_transform(df_ml_filter['studios_name'])\n",
    "\n",
    "# Luego, vamos a añadir las columnas numéricas y la matriz de géneros a nuestra matriz de características\n",
    "features = np.column_stack([tfidf_matrix.toarray(),\n",
    "                            df_ml_filter['budget'], \n",
    "                            df_ml_filter['vote_average'], \n",
    "                            df_ml_filter['popularity'],\n",
    "                            df_ml_filter['release_year'],\n",
    "                            genres_encoded,\n",
    "                            studios_encoded])\n",
    "\n",
    "# Reindexamos el DataFrame\n",
    "data = df_ml_filter.reset_index(drop=True)\n",
    "\n",
    "# Ahora, calculamos la matriz de similitud de coseno\n",
    "similarity_matrix = cosine_similarity(features)\n",
    "\n",
    "# Para hacer recomendaciones, puedes buscar los productos más similares a un producto dado\n",
    "name_title = \"Babe\"  # El nombre de la película para la cual quieres hacer recomendaciones\n",
    "name_films = data[data['title'] == name_title]\n",
    "\n",
    "if not name_films.empty:\n",
    "    product_index = name_films.index[0]\n",
    "    product_similarities = similarity_matrix[product_index]\n",
    "    \n",
    "    # Se obtienen los índices de las 5 películas más similares (ordenados de forma descendente), excluyendo la propia película\n",
    "    most_similar_products_indices = np.argsort(-product_similarities)[1:6]\n",
    "    \n",
    "    # Obtener los títulos de las 5 películas más similares\n",
    "    most_similar_products_titles = data.loc[most_similar_products_indices, 'title'].tolist()\n",
    "    \n",
    "    print(f\"Las 5 películas más recomendadas para {name_title} son:\")\n",
    "    print(most_similar_products_titles)\n",
    "else:\n",
    "    print(\"Película no encontrada\")"
   ]
  },
  {
   "cell_type": "code",
   "execution_count": 21,
   "metadata": {},
   "outputs": [],
   "source": [
    "from sklearn.preprocessing import MultiLabelBinarizer\n",
    "from sklearn.feature_extraction.text import TfidfVectorizer\n",
    "from sklearn.metrics.pairwise import cosine_similarity\n",
    "\n",
    "def recomendacion(df, titulo):\n",
    "    # Vectorizar la columna 'title' usando TF-IDF\n",
    "    vectorizer = TfidfVectorizer()\n",
    "    tfidf_matrix = vectorizer.fit_transform(df['title'])\n",
    "\n",
    "    # Codificar la columna 'genres_name' y 'studios_name' usando MultiLabelBinarizer\n",
    "    mlb = MultiLabelBinarizer()\n",
    "    genres_encoded = mlb.fit_transform(df['genres_name'])\n",
    "    studios_encoded = mlb.fit_transform(df['studios_name'])\n",
    "\n",
    "    # Luego, vamos a añadir las columnas numéricas y la matriz de géneros a nuestra matriz de características\n",
    "    features = np.column_stack([tfidf_matrix.toarray(),\n",
    "                                df['budget'], \n",
    "                                df['vote_average'], \n",
    "                                df['popularity'],\n",
    "                                df['release_year'],\n",
    "                                genres_encoded,\n",
    "                                studios_encoded])\n",
    "\n",
    "    # Reindexamos el DataFrame\n",
    "    data = df.reset_index(drop=True)\n",
    "\n",
    "    # Ahora, calculamos la matriz de similitud de coseno\n",
    "    similarity_matrix = cosine_similarity(features)\n",
    "\n",
    "    # Para hacer recomendaciones, puedes buscar las películas más similares a una película dada\n",
    "    name_films = data[data['title'] == titulo]\n",
    "\n",
    "    if not name_films.empty:\n",
    "        product_index = name_films.index[0]\n",
    "        product_similarities = similarity_matrix[product_index]\n",
    "\n",
    "        # Se obtienen los índices de las 5 películas más similares (ordenados de forma descendente), excluyendo la propia película\n",
    "        most_similar_products_indices = np.argsort(-product_similarities)[1:6]\n",
    "\n",
    "        # Obtener los títulos de las 5 películas más similares\n",
    "        most_similar_products_titles = data.loc[most_similar_products_indices, 'title'].tolist()\n",
    "\n",
    "        return {f'Las 5 películas más similares a {titulo} son': most_similar_products_titles}\n",
    "    else:\n",
    "        return \"Película no encontrada\""
   ]
  },
  {
   "cell_type": "code",
   "execution_count": 22,
   "metadata": {},
   "outputs": [
    {
     "data": {
      "text/plain": [
       "{'Las 5 películas más similares a Toy Story son': ['The Hunt for Red October',\n",
       "  'Babe',\n",
       "  'Kill Bill: Vol. 2',\n",
       "  'Kill Bill: Vol. 1',\n",
       "  'Identity']}"
      ]
     },
     "execution_count": 22,
     "metadata": {},
     "output_type": "execute_result"
    }
   ],
   "source": [
    "recomendacion(df_ml_filter, 'Toy Story')"
   ]
  }
 ],
 "metadata": {
  "kernelspec": {
   "display_name": "venv",
   "language": "python",
   "name": "python3"
  },
  "language_info": {
   "codemirror_mode": {
    "name": "ipython",
    "version": 3
   },
   "file_extension": ".py",
   "mimetype": "text/x-python",
   "name": "python",
   "nbconvert_exporter": "python",
   "pygments_lexer": "ipython3",
   "version": "3.11.5"
  }
 },
 "nbformat": 4,
 "nbformat_minor": 2
}
