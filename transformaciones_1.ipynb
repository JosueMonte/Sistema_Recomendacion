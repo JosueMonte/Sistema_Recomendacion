{
 "cells": [
  {
   "cell_type": "markdown",
   "metadata": {},
   "source": [
    "# Proyecto individual: Sistema de recomendación de películas\n",
    "​\n",
    "Este proyecto constará de dos fases: `Ingenieria de datos`, `Modelamiento y evaluación con machine learning`.\n",
    "\n",
    "### 1. Ingeniería de datos\n",
    "* Esto incluye la limpieza y transformación de los datos, abordando problemas como:\n",
    "    * valores faltantes, \n",
    "    * datos duplicados y variables irrelevantes,\n",
    "    * valores anidados,\n",
    "    * formateo de columnas,\n",
    "    * nubes de palabras para ver las más frecuentes.\n",
    "    * a fin de mejorar la calidad del dataset para el modelado.\n",
    "    * análisis univariado.\n",
    "    * análisis bivariado y multivariado.\n",
    "​\n",
    "### 2. Modelamiento y evaluación con machine learning\n",
    "* Implementar un modelo de clasificación con aprendizaje supervisado que permita clasificar (**con un algoritmo de coseno de similitud, por ejemplo**) las películas por ... para encontrar una lista de 5 películas similares "
   ]
  },
  {
   "cell_type": "markdown",
   "metadata": {},
   "source": [
    "### 1. Transformaciones"
   ]
  },
  {
   "cell_type": "markdown",
   "metadata": {},
   "source": [
    "Se realizará una transformación de datos para que corra los primeros 4 endpoints:\n",
    "* Las variables a considerar serán:\n",
    "    * release_date (year, month, weekday)\n",
    "    * popularity\n",
    "    * vote_average\n",
    "    * vote_count"
   ]
  },
  {
   "cell_type": "markdown",
   "metadata": {},
   "source": [
    "#### 1.1. Importación de librerías"
   ]
  },
  {
   "cell_type": "code",
   "execution_count": 14,
   "metadata": {},
   "outputs": [],
   "source": [
    "import pandas as pd \n",
    "import numpy as np \n",
    "import matplotlib.pyplot as plt \n",
    "import seaborn as sns\n",
    "import datetime\n",
    "\n",
    "# Mostrar figuras de matplotlib en el entorno de Jupyter Notebook\n",
    "%matplotlib inline"
   ]
  },
  {
   "cell_type": "markdown",
   "metadata": {},
   "source": [
    "#### 1.2. Carga y visualización los datos."
   ]
  },
  {
   "cell_type": "code",
   "execution_count": 15,
   "metadata": {},
   "outputs": [
    {
     "name": "stderr",
     "output_type": "stream",
     "text": [
      "C:\\Users\\Josue\\AppData\\Local\\Temp\\ipykernel_10276\\3549431830.py:1: DtypeWarning: Columns (10) have mixed types. Specify dtype option on import or set low_memory=False.\n",
      "  df_movies = pd.read_csv('datasets/movies.csv')\n"
     ]
    },
    {
     "data": {
      "text/html": [
       "<div>\n",
       "<style scoped>\n",
       "    .dataframe tbody tr th:only-of-type {\n",
       "        vertical-align: middle;\n",
       "    }\n",
       "\n",
       "    .dataframe tbody tr th {\n",
       "        vertical-align: top;\n",
       "    }\n",
       "\n",
       "    .dataframe thead th {\n",
       "        text-align: right;\n",
       "    }\n",
       "</style>\n",
       "<table border=\"1\" class=\"dataframe\">\n",
       "  <thead>\n",
       "    <tr style=\"text-align: right;\">\n",
       "      <th></th>\n",
       "      <th>adult</th>\n",
       "      <th>belongs_to_collection</th>\n",
       "      <th>budget</th>\n",
       "      <th>genres</th>\n",
       "      <th>homepage</th>\n",
       "      <th>id</th>\n",
       "      <th>imdb_id</th>\n",
       "      <th>original_language</th>\n",
       "      <th>original_title</th>\n",
       "      <th>overview</th>\n",
       "      <th>...</th>\n",
       "      <th>release_date</th>\n",
       "      <th>revenue</th>\n",
       "      <th>runtime</th>\n",
       "      <th>spoken_languages</th>\n",
       "      <th>status</th>\n",
       "      <th>tagline</th>\n",
       "      <th>title</th>\n",
       "      <th>video</th>\n",
       "      <th>vote_average</th>\n",
       "      <th>vote_count</th>\n",
       "    </tr>\n",
       "  </thead>\n",
       "  <tbody>\n",
       "    <tr>\n",
       "      <th>0</th>\n",
       "      <td>False</td>\n",
       "      <td>{'id': 10194, 'name': 'Toy Story Collection', ...</td>\n",
       "      <td>30000000</td>\n",
       "      <td>[{'id': 16, 'name': 'Animation'}, {'id': 35, '...</td>\n",
       "      <td>http://toystory.disney.com/toy-story</td>\n",
       "      <td>862</td>\n",
       "      <td>tt0114709</td>\n",
       "      <td>en</td>\n",
       "      <td>Toy Story</td>\n",
       "      <td>Led by Woody, Andy's toys live happily in his ...</td>\n",
       "      <td>...</td>\n",
       "      <td>1995-10-30</td>\n",
       "      <td>373554033.0</td>\n",
       "      <td>81.0</td>\n",
       "      <td>[{'iso_639_1': 'en', 'name': 'English'}]</td>\n",
       "      <td>Released</td>\n",
       "      <td>NaN</td>\n",
       "      <td>Toy Story</td>\n",
       "      <td>False</td>\n",
       "      <td>7.7</td>\n",
       "      <td>5415.0</td>\n",
       "    </tr>\n",
       "    <tr>\n",
       "      <th>1</th>\n",
       "      <td>False</td>\n",
       "      <td>NaN</td>\n",
       "      <td>65000000</td>\n",
       "      <td>[{'id': 12, 'name': 'Adventure'}, {'id': 14, '...</td>\n",
       "      <td>NaN</td>\n",
       "      <td>8844</td>\n",
       "      <td>tt0113497</td>\n",
       "      <td>en</td>\n",
       "      <td>Jumanji</td>\n",
       "      <td>When siblings Judy and Peter discover an encha...</td>\n",
       "      <td>...</td>\n",
       "      <td>1995-12-15</td>\n",
       "      <td>262797249.0</td>\n",
       "      <td>104.0</td>\n",
       "      <td>[{'iso_639_1': 'en', 'name': 'English'}, {'iso...</td>\n",
       "      <td>Released</td>\n",
       "      <td>Roll the dice and unleash the excitement!</td>\n",
       "      <td>Jumanji</td>\n",
       "      <td>False</td>\n",
       "      <td>6.9</td>\n",
       "      <td>2413.0</td>\n",
       "    </tr>\n",
       "  </tbody>\n",
       "</table>\n",
       "<p>2 rows × 24 columns</p>\n",
       "</div>"
      ],
      "text/plain": [
       "   adult                              belongs_to_collection    budget  \\\n",
       "0  False  {'id': 10194, 'name': 'Toy Story Collection', ...  30000000   \n",
       "1  False                                                NaN  65000000   \n",
       "\n",
       "                                              genres  \\\n",
       "0  [{'id': 16, 'name': 'Animation'}, {'id': 35, '...   \n",
       "1  [{'id': 12, 'name': 'Adventure'}, {'id': 14, '...   \n",
       "\n",
       "                               homepage    id    imdb_id original_language  \\\n",
       "0  http://toystory.disney.com/toy-story   862  tt0114709                en   \n",
       "1                                   NaN  8844  tt0113497                en   \n",
       "\n",
       "  original_title                                           overview  ...  \\\n",
       "0      Toy Story  Led by Woody, Andy's toys live happily in his ...  ...   \n",
       "1        Jumanji  When siblings Judy and Peter discover an encha...  ...   \n",
       "\n",
       "  release_date      revenue runtime  \\\n",
       "0   1995-10-30  373554033.0    81.0   \n",
       "1   1995-12-15  262797249.0   104.0   \n",
       "\n",
       "                                    spoken_languages    status  \\\n",
       "0           [{'iso_639_1': 'en', 'name': 'English'}]  Released   \n",
       "1  [{'iso_639_1': 'en', 'name': 'English'}, {'iso...  Released   \n",
       "\n",
       "                                     tagline      title  video vote_average  \\\n",
       "0                                        NaN  Toy Story  False          7.7   \n",
       "1  Roll the dice and unleash the excitement!    Jumanji  False          6.9   \n",
       "\n",
       "  vote_count  \n",
       "0     5415.0  \n",
       "1     2413.0  \n",
       "\n",
       "[2 rows x 24 columns]"
      ]
     },
     "execution_count": 15,
     "metadata": {},
     "output_type": "execute_result"
    }
   ],
   "source": [
    "df_movies = pd.read_csv('datasets/movies.csv')\n",
    "df_movies.head(2)"
   ]
  },
  {
   "cell_type": "markdown",
   "metadata": {},
   "source": [
    "#### 1.3. Eliminación de filas"
   ]
  },
  {
   "cell_type": "markdown",
   "metadata": {},
   "source": [
    "1.3.1. Primero se van a eliminar las filas donde haya valores nulos en las columnas status (no fueron lanzadas todavía) y release_date (no tienen fecha y no sirve para los endpoints)."
   ]
  },
  {
   "cell_type": "code",
   "execution_count": 16,
   "metadata": {},
   "outputs": [],
   "source": [
    "# Se filtran las filas con valores notna en las columnas 'status', 'release_date' \n",
    "df_movies_1 = df_movies[df_movies['status'].notna()] \n",
    "df_movies_1 = df_movies[df_movies['release_date'].notna()] "
   ]
  },
  {
   "cell_type": "markdown",
   "metadata": {},
   "source": [
    "1.3.2. El propósito es reducir el dataset y enfocar los datos, para ello se elige trabajar solo con las películas en inglés, las cuales representan el 70 % del total, dado que el cine en inglés es el más visualizado."
   ]
  },
  {
   "cell_type": "code",
   "execution_count": 17,
   "metadata": {},
   "outputs": [
    {
     "name": "stdout",
     "output_type": "stream",
     "text": [
      "La proporción del idioma inglés es del: 70 %\n"
     ]
    }
   ],
   "source": [
    "total_rows = len(df_movies)\n",
    "\n",
    "count_en = (df_movies['original_language'] == 'en').sum()\n",
    "\n",
    "prop_en = int(count_en / total_rows * 100)\n",
    "\n",
    "print(f\"La proporción del idioma inglés es del: {prop_en} %\")"
   ]
  },
  {
   "cell_type": "code",
   "execution_count": 18,
   "metadata": {},
   "outputs": [],
   "source": [
    "# Se eliminan las películas que su idioma original no es en inglés (habria que analizar que porcentaje representan)\n",
    "df_movies_1 = df_movies[df_movies['original_language'] == 'en']"
   ]
  },
  {
   "cell_type": "markdown",
   "metadata": {},
   "source": [
    "1.3.3. Seguidamente, se elige trabajar con las películas mayores al año 1990, las cuales representan más del 75 % de los datos."
   ]
  },
  {
   "cell_type": "markdown",
   "metadata": {},
   "source": [
    "Este punto se resolverá luego de crear la columna release_year"
   ]
  },
  {
   "cell_type": "markdown",
   "metadata": {},
   "source": [
    "#### 1.4. Eliminación de columnas "
   ]
  },
  {
   "cell_type": "code",
   "execution_count": 19,
   "metadata": {},
   "outputs": [],
   "source": [
    "df_movies_2 = df_movies_1.drop(['adult', 'belongs_to_collection', 'status', 'genres', 'poster_path', 'homepage', 'imdb_id', 'overview', 'production_companies', 'production_countries', 'original_language', 'runtime', 'spoken_languages', 'tagline', 'original_title', 'video', 'budget', 'revenue'], axis=1)\n"
   ]
  },
  {
   "cell_type": "code",
   "execution_count": 20,
   "metadata": {},
   "outputs": [
    {
     "data": {
      "text/html": [
       "<div>\n",
       "<style scoped>\n",
       "    .dataframe tbody tr th:only-of-type {\n",
       "        vertical-align: middle;\n",
       "    }\n",
       "\n",
       "    .dataframe tbody tr th {\n",
       "        vertical-align: top;\n",
       "    }\n",
       "\n",
       "    .dataframe thead th {\n",
       "        text-align: right;\n",
       "    }\n",
       "</style>\n",
       "<table border=\"1\" class=\"dataframe\">\n",
       "  <thead>\n",
       "    <tr style=\"text-align: right;\">\n",
       "      <th></th>\n",
       "      <th>id</th>\n",
       "      <th>popularity</th>\n",
       "      <th>release_date</th>\n",
       "      <th>title</th>\n",
       "      <th>vote_average</th>\n",
       "      <th>vote_count</th>\n",
       "    </tr>\n",
       "  </thead>\n",
       "  <tbody>\n",
       "    <tr>\n",
       "      <th>0</th>\n",
       "      <td>862</td>\n",
       "      <td>21.946943</td>\n",
       "      <td>1995-10-30</td>\n",
       "      <td>Toy Story</td>\n",
       "      <td>7.7</td>\n",
       "      <td>5415.0</td>\n",
       "    </tr>\n",
       "    <tr>\n",
       "      <th>1</th>\n",
       "      <td>8844</td>\n",
       "      <td>17.015539</td>\n",
       "      <td>1995-12-15</td>\n",
       "      <td>Jumanji</td>\n",
       "      <td>6.9</td>\n",
       "      <td>2413.0</td>\n",
       "    </tr>\n",
       "    <tr>\n",
       "      <th>2</th>\n",
       "      <td>15602</td>\n",
       "      <td>11.7129</td>\n",
       "      <td>1995-12-22</td>\n",
       "      <td>Grumpier Old Men</td>\n",
       "      <td>6.5</td>\n",
       "      <td>92.0</td>\n",
       "    </tr>\n",
       "    <tr>\n",
       "      <th>3</th>\n",
       "      <td>31357</td>\n",
       "      <td>3.859495</td>\n",
       "      <td>1995-12-22</td>\n",
       "      <td>Waiting to Exhale</td>\n",
       "      <td>6.1</td>\n",
       "      <td>34.0</td>\n",
       "    </tr>\n",
       "    <tr>\n",
       "      <th>4</th>\n",
       "      <td>11862</td>\n",
       "      <td>8.387519</td>\n",
       "      <td>1995-02-10</td>\n",
       "      <td>Father of the Bride Part II</td>\n",
       "      <td>5.7</td>\n",
       "      <td>173.0</td>\n",
       "    </tr>\n",
       "  </tbody>\n",
       "</table>\n",
       "</div>"
      ],
      "text/plain": [
       "      id popularity release_date                        title  vote_average  \\\n",
       "0    862  21.946943   1995-10-30                    Toy Story           7.7   \n",
       "1   8844  17.015539   1995-12-15                      Jumanji           6.9   \n",
       "2  15602    11.7129   1995-12-22             Grumpier Old Men           6.5   \n",
       "3  31357   3.859495   1995-12-22            Waiting to Exhale           6.1   \n",
       "4  11862   8.387519   1995-02-10  Father of the Bride Part II           5.7   \n",
       "\n",
       "   vote_count  \n",
       "0      5415.0  \n",
       "1      2413.0  \n",
       "2        92.0  \n",
       "3        34.0  \n",
       "4       173.0  "
      ]
     },
     "execution_count": 20,
     "metadata": {},
     "output_type": "execute_result"
    }
   ],
   "source": [
    "df_movies_2.head()"
   ]
  },
  {
   "cell_type": "markdown",
   "metadata": {},
   "source": [
    "#### 1.5. Distinción entre day, month y year en la columna release_date"
   ]
  },
  {
   "cell_type": "code",
   "execution_count": 21,
   "metadata": {},
   "outputs": [
    {
     "name": "stdout",
     "output_type": "stream",
     "text": [
      "0   1995-10-30\n",
      "1   1995-12-15\n",
      "2   1995-12-22\n",
      "3   1995-12-22\n",
      "4   1995-02-10\n",
      "Name: release_date, dtype: datetime64[ns]\n"
     ]
    }
   ],
   "source": [
    "# Convertir la columna 'date' a datetime\n",
    "df_movies_2['release_date'] = pd.to_datetime(df_movies_2['release_date'], errors='coerce')\n",
    "\n",
    "# Verificar el formato de la columna 'date' después de la conversión\n",
    "print(df_movies_2['release_date'].head())"
   ]
  },
  {
   "cell_type": "code",
   "execution_count": 22,
   "metadata": {},
   "outputs": [],
   "source": [
    "# Crear nuevas columnas para día, mes y año\n",
    "df_movies_2['day'] = df_movies_2['release_date'].dt.day\n",
    "df_movies_2['month'] = df_movies_2['release_date'].dt.month\n",
    "df_movies_2['release_year'] = df_movies_2['release_date'].dt.year"
   ]
  },
  {
   "cell_type": "code",
   "execution_count": 23,
   "metadata": {},
   "outputs": [
    {
     "data": {
      "text/html": [
       "<div>\n",
       "<style scoped>\n",
       "    .dataframe tbody tr th:only-of-type {\n",
       "        vertical-align: middle;\n",
       "    }\n",
       "\n",
       "    .dataframe tbody tr th {\n",
       "        vertical-align: top;\n",
       "    }\n",
       "\n",
       "    .dataframe thead th {\n",
       "        text-align: right;\n",
       "    }\n",
       "</style>\n",
       "<table border=\"1\" class=\"dataframe\">\n",
       "  <thead>\n",
       "    <tr style=\"text-align: right;\">\n",
       "      <th></th>\n",
       "      <th>id</th>\n",
       "      <th>popularity</th>\n",
       "      <th>release_date</th>\n",
       "      <th>title</th>\n",
       "      <th>vote_average</th>\n",
       "      <th>vote_count</th>\n",
       "      <th>day</th>\n",
       "      <th>month</th>\n",
       "      <th>release_year</th>\n",
       "    </tr>\n",
       "  </thead>\n",
       "  <tbody>\n",
       "    <tr>\n",
       "      <th>0</th>\n",
       "      <td>862</td>\n",
       "      <td>21.946943</td>\n",
       "      <td>1995-10-30</td>\n",
       "      <td>Toy Story</td>\n",
       "      <td>7.7</td>\n",
       "      <td>5415.0</td>\n",
       "      <td>30.0</td>\n",
       "      <td>10.0</td>\n",
       "      <td>1995.0</td>\n",
       "    </tr>\n",
       "    <tr>\n",
       "      <th>1</th>\n",
       "      <td>8844</td>\n",
       "      <td>17.015539</td>\n",
       "      <td>1995-12-15</td>\n",
       "      <td>Jumanji</td>\n",
       "      <td>6.9</td>\n",
       "      <td>2413.0</td>\n",
       "      <td>15.0</td>\n",
       "      <td>12.0</td>\n",
       "      <td>1995.0</td>\n",
       "    </tr>\n",
       "  </tbody>\n",
       "</table>\n",
       "</div>"
      ],
      "text/plain": [
       "     id popularity release_date      title  vote_average  vote_count   day  \\\n",
       "0   862  21.946943   1995-10-30  Toy Story           7.7      5415.0  30.0   \n",
       "1  8844  17.015539   1995-12-15    Jumanji           6.9      2413.0  15.0   \n",
       "\n",
       "   month  release_year  \n",
       "0   10.0        1995.0  \n",
       "1   12.0        1995.0  "
      ]
     },
     "execution_count": 23,
     "metadata": {},
     "output_type": "execute_result"
    }
   ],
   "source": [
    "df_movies_2.head(2)"
   ]
  },
  {
   "cell_type": "code",
   "execution_count": 24,
   "metadata": {},
   "outputs": [
    {
     "name": "stdout",
     "output_type": "stream",
     "text": [
      "<class 'pandas.core.frame.DataFrame'>\n",
      "Index: 32269 entries, 0 to 45465\n",
      "Data columns (total 9 columns):\n",
      " #   Column        Non-Null Count  Dtype         \n",
      "---  ------        --------------  -----         \n",
      " 0   id            32269 non-null  object        \n",
      " 1   popularity    32267 non-null  object        \n",
      " 2   release_date  32202 non-null  datetime64[ns]\n",
      " 3   title         32267 non-null  object        \n",
      " 4   vote_average  32267 non-null  float64       \n",
      " 5   vote_count    32267 non-null  float64       \n",
      " 6   day           32202 non-null  float64       \n",
      " 7   month         32202 non-null  float64       \n",
      " 8   release_year  32202 non-null  float64       \n",
      "dtypes: datetime64[ns](1), float64(5), object(3)\n",
      "memory usage: 2.5+ MB\n"
     ]
    }
   ],
   "source": [
    "df_movies_2.info()"
   ]
  },
  {
   "cell_type": "code",
   "execution_count": 25,
   "metadata": {},
   "outputs": [
    {
     "data": {
      "text/html": [
       "<div>\n",
       "<style scoped>\n",
       "    .dataframe tbody tr th:only-of-type {\n",
       "        vertical-align: middle;\n",
       "    }\n",
       "\n",
       "    .dataframe tbody tr th {\n",
       "        vertical-align: top;\n",
       "    }\n",
       "\n",
       "    .dataframe thead th {\n",
       "        text-align: right;\n",
       "    }\n",
       "</style>\n",
       "<table border=\"1\" class=\"dataframe\">\n",
       "  <thead>\n",
       "    <tr style=\"text-align: right;\">\n",
       "      <th></th>\n",
       "      <th>release_date</th>\n",
       "      <th>vote_average</th>\n",
       "      <th>vote_count</th>\n",
       "      <th>day</th>\n",
       "      <th>month</th>\n",
       "      <th>release_year</th>\n",
       "    </tr>\n",
       "  </thead>\n",
       "  <tbody>\n",
       "    <tr>\n",
       "      <th>count</th>\n",
       "      <td>32202</td>\n",
       "      <td>32267.000000</td>\n",
       "      <td>32267.00000</td>\n",
       "      <td>32202.000000</td>\n",
       "      <td>32202.000000</td>\n",
       "      <td>32202.000000</td>\n",
       "    </tr>\n",
       "    <tr>\n",
       "      <th>mean</th>\n",
       "      <td>1991-08-16 23:18:38.166573440</td>\n",
       "      <td>5.491171</td>\n",
       "      <td>141.56643</td>\n",
       "      <td>14.116111</td>\n",
       "      <td>6.448730</td>\n",
       "      <td>1991.135613</td>\n",
       "    </tr>\n",
       "    <tr>\n",
       "      <th>min</th>\n",
       "      <td>1878-06-14 00:00:00</td>\n",
       "      <td>0.000000</td>\n",
       "      <td>0.00000</td>\n",
       "      <td>1.000000</td>\n",
       "      <td>1.000000</td>\n",
       "      <td>1878.000000</td>\n",
       "    </tr>\n",
       "    <tr>\n",
       "      <th>25%</th>\n",
       "      <td>1978-05-03 12:00:00</td>\n",
       "      <td>5.000000</td>\n",
       "      <td>3.00000</td>\n",
       "      <td>6.000000</td>\n",
       "      <td>3.000000</td>\n",
       "      <td>1978.000000</td>\n",
       "    </tr>\n",
       "    <tr>\n",
       "      <th>50%</th>\n",
       "      <td>2000-12-27 00:00:00</td>\n",
       "      <td>5.900000</td>\n",
       "      <td>10.00000</td>\n",
       "      <td>14.000000</td>\n",
       "      <td>7.000000</td>\n",
       "      <td>2000.000000</td>\n",
       "    </tr>\n",
       "    <tr>\n",
       "      <th>75%</th>\n",
       "      <td>2010-10-08 00:00:00</td>\n",
       "      <td>6.700000</td>\n",
       "      <td>43.00000</td>\n",
       "      <td>22.000000</td>\n",
       "      <td>10.000000</td>\n",
       "      <td>2010.000000</td>\n",
       "    </tr>\n",
       "    <tr>\n",
       "      <th>max</th>\n",
       "      <td>2020-12-16 00:00:00</td>\n",
       "      <td>10.000000</td>\n",
       "      <td>14075.00000</td>\n",
       "      <td>31.000000</td>\n",
       "      <td>12.000000</td>\n",
       "      <td>2020.000000</td>\n",
       "    </tr>\n",
       "    <tr>\n",
       "      <th>std</th>\n",
       "      <td>NaN</td>\n",
       "      <td>1.941068</td>\n",
       "      <td>574.58508</td>\n",
       "      <td>9.262318</td>\n",
       "      <td>3.598641</td>\n",
       "      <td>24.711462</td>\n",
       "    </tr>\n",
       "  </tbody>\n",
       "</table>\n",
       "</div>"
      ],
      "text/plain": [
       "                        release_date  vote_average   vote_count           day  \\\n",
       "count                          32202  32267.000000  32267.00000  32202.000000   \n",
       "mean   1991-08-16 23:18:38.166573440      5.491171    141.56643     14.116111   \n",
       "min              1878-06-14 00:00:00      0.000000      0.00000      1.000000   \n",
       "25%              1978-05-03 12:00:00      5.000000      3.00000      6.000000   \n",
       "50%              2000-12-27 00:00:00      5.900000     10.00000     14.000000   \n",
       "75%              2010-10-08 00:00:00      6.700000     43.00000     22.000000   \n",
       "max              2020-12-16 00:00:00     10.000000  14075.00000     31.000000   \n",
       "std                              NaN      1.941068    574.58508      9.262318   \n",
       "\n",
       "              month  release_year  \n",
       "count  32202.000000  32202.000000  \n",
       "mean       6.448730   1991.135613  \n",
       "min        1.000000   1878.000000  \n",
       "25%        3.000000   1978.000000  \n",
       "50%        7.000000   2000.000000  \n",
       "75%       10.000000   2010.000000  \n",
       "max       12.000000   2020.000000  \n",
       "std        3.598641     24.711462  "
      ]
     },
     "execution_count": 25,
     "metadata": {},
     "output_type": "execute_result"
    }
   ],
   "source": [
    "df_movies_2.describe()"
   ]
  },
  {
   "cell_type": "markdown",
   "metadata": {},
   "source": [
    "#### 1.6. Filtrado de películas mayores a 1980\n",
    "\n",
    "Las cuales representan cerca del 75 % de los datos según lo muestra el .describe"
   ]
  },
  {
   "cell_type": "code",
   "execution_count": 48,
   "metadata": {},
   "outputs": [],
   "source": [
    "df_movies_2 = df_movies_2[df_movies_2['release_year'] >= 1980]"
   ]
  },
  {
   "cell_type": "code",
   "execution_count": 49,
   "metadata": {},
   "outputs": [
    {
     "name": "stdout",
     "output_type": "stream",
     "text": [
      "<class 'pandas.core.frame.DataFrame'>\n",
      "Index: 23802 entries, 0 to 45465\n",
      "Data columns (total 10 columns):\n",
      " #   Column        Non-Null Count  Dtype         \n",
      "---  ------        --------------  -----         \n",
      " 0   id            23802 non-null  object        \n",
      " 1   popularity    23802 non-null  object        \n",
      " 2   release_date  23802 non-null  datetime64[ns]\n",
      " 3   title         23802 non-null  object        \n",
      " 4   vote_average  23802 non-null  float64       \n",
      " 5   vote_count    23802 non-null  float64       \n",
      " 6   day           23802 non-null  float64       \n",
      " 7   month         23802 non-null  float64       \n",
      " 8   release_year  23802 non-null  float64       \n",
      " 9   weekday       23802 non-null  object        \n",
      "dtypes: datetime64[ns](1), float64(5), object(4)\n",
      "memory usage: 2.0+ MB\n"
     ]
    }
   ],
   "source": [
    "df_movies_2.info()"
   ]
  },
  {
   "cell_type": "markdown",
   "metadata": {},
   "source": [
    "## 2. Pruebas de las funciones para los endpoints"
   ]
  },
  {
   "cell_type": "markdown",
   "metadata": {},
   "source": [
    "### 2.1. Creación de la funcion para el endpoint1"
   ]
  },
  {
   "cell_type": "code",
   "execution_count": 28,
   "metadata": {},
   "outputs": [],
   "source": [
    "month_mapping = {\n",
    "    \"enero\": 1, \"febrero\": 2, \"marzo\": 3, \"abril\": 4,\n",
    "    \"mayo\": 5, \"junio\": 6, \"julio\": 7, \"agosto\": 8,\n",
    "    \"septiembre\": 9, \"octubre\": 10, \"noviembre\": 11, \"diciembre\": 12\n",
    "}"
   ]
  },
  {
   "cell_type": "code",
   "execution_count": 29,
   "metadata": {},
   "outputs": [],
   "source": [
    "def cantidad_filmaciones_mes(df, month: str):\n",
    "    \"\"\"Obtiene la cantidad de filmaciones según mes indicado\n",
    "    Args:\n",
    "        df: DataFrame de películas \n",
    "        month (str): nombre del mes en castellano\n",
    "    Raises:\n",
    "        HTTPException: en caso de que el mes indicado no sea válido o no esté escrito en castellano o sea nulo\n",
    "    Returns:\n",
    "        _type_: entero o integer\n",
    "    \"\"\"\n",
    "    # Convertir el nombre del mes a su número correspondiente\n",
    "    month_number = month_mapping.get(month.lower())\n",
    "    if month_number is None:\n",
    "        raise ValueError(f\"Mes '{month}' no es válido.\")\n",
    "    # Filtrar las filas que corresponden al mes especificado\n",
    "    filtered_df = df[df['month'] == month_number]\n",
    "    # Contar los IDs en las filas filtradas\n",
    "    count_ids = filtered_df['id'].count()\n",
    "    return {\"endpoint1\": f\"Fueron estrenadas {count_ids} peliculas en el mes de {month}\"}"
   ]
  },
  {
   "cell_type": "code",
   "execution_count": 30,
   "metadata": {},
   "outputs": [
    {
     "data": {
      "text/plain": [
       "{'endpoint1': 'Fueron estrenadas 3204 peliculas en el mes de enero'}"
      ]
     },
     "execution_count": 30,
     "metadata": {},
     "output_type": "execute_result"
    }
   ],
   "source": [
    "cantidad_filmaciones_mes(df=df_movies_2, month='enero')"
   ]
  },
  {
   "cell_type": "markdown",
   "metadata": {},
   "source": [
    "### 2.2. Creación de la funcion para el endpoint2"
   ]
  },
  {
   "cell_type": "code",
   "execution_count": 31,
   "metadata": {},
   "outputs": [],
   "source": [
    "# Función para obtener el día de la semana\n",
    "def obtener_dia_semana(fecha):\n",
    "    dias_semana = ['lunes', 'martes', 'miércoles', 'jueves', 'viernes', 'sábado', 'domingo']\n",
    "    if pd.notnull(fecha):\n",
    "        return dias_semana[int(fecha.day_of_week)]\n",
    "    else:\n",
    "        return 'fecha inválida'\n",
    "\n",
    "# Aplicar la función a la columna 'release_date'\n",
    "df_movies_2['weekday'] = df_movies_2['release_date'].apply(obtener_dia_semana)\n",
    "\n",
    "# Se eliminan las filas con valor de celda 'fecha inválida'\n",
    "df_movies_2 = df_movies_2[df_movies_2['weekday'] != 'fecha inválida']"
   ]
  },
  {
   "cell_type": "code",
   "execution_count": 32,
   "metadata": {},
   "outputs": [
    {
     "data": {
      "text/html": [
       "<div>\n",
       "<style scoped>\n",
       "    .dataframe tbody tr th:only-of-type {\n",
       "        vertical-align: middle;\n",
       "    }\n",
       "\n",
       "    .dataframe tbody tr th {\n",
       "        vertical-align: top;\n",
       "    }\n",
       "\n",
       "    .dataframe thead th {\n",
       "        text-align: right;\n",
       "    }\n",
       "</style>\n",
       "<table border=\"1\" class=\"dataframe\">\n",
       "  <thead>\n",
       "    <tr style=\"text-align: right;\">\n",
       "      <th></th>\n",
       "      <th>id</th>\n",
       "      <th>popularity</th>\n",
       "      <th>release_date</th>\n",
       "      <th>title</th>\n",
       "      <th>vote_average</th>\n",
       "      <th>vote_count</th>\n",
       "      <th>day</th>\n",
       "      <th>month</th>\n",
       "      <th>release_year</th>\n",
       "      <th>weekday</th>\n",
       "    </tr>\n",
       "  </thead>\n",
       "  <tbody>\n",
       "    <tr>\n",
       "      <th>0</th>\n",
       "      <td>862</td>\n",
       "      <td>21.946943</td>\n",
       "      <td>1995-10-30</td>\n",
       "      <td>Toy Story</td>\n",
       "      <td>7.7</td>\n",
       "      <td>5415.0</td>\n",
       "      <td>30.0</td>\n",
       "      <td>10.0</td>\n",
       "      <td>1995.0</td>\n",
       "      <td>lunes</td>\n",
       "    </tr>\n",
       "    <tr>\n",
       "      <th>1</th>\n",
       "      <td>8844</td>\n",
       "      <td>17.015539</td>\n",
       "      <td>1995-12-15</td>\n",
       "      <td>Jumanji</td>\n",
       "      <td>6.9</td>\n",
       "      <td>2413.0</td>\n",
       "      <td>15.0</td>\n",
       "      <td>12.0</td>\n",
       "      <td>1995.0</td>\n",
       "      <td>viernes</td>\n",
       "    </tr>\n",
       "    <tr>\n",
       "      <th>2</th>\n",
       "      <td>15602</td>\n",
       "      <td>11.7129</td>\n",
       "      <td>1995-12-22</td>\n",
       "      <td>Grumpier Old Men</td>\n",
       "      <td>6.5</td>\n",
       "      <td>92.0</td>\n",
       "      <td>22.0</td>\n",
       "      <td>12.0</td>\n",
       "      <td>1995.0</td>\n",
       "      <td>viernes</td>\n",
       "    </tr>\n",
       "  </tbody>\n",
       "</table>\n",
       "</div>"
      ],
      "text/plain": [
       "      id popularity release_date             title  vote_average  vote_count  \\\n",
       "0    862  21.946943   1995-10-30         Toy Story           7.7      5415.0   \n",
       "1   8844  17.015539   1995-12-15           Jumanji           6.9      2413.0   \n",
       "2  15602    11.7129   1995-12-22  Grumpier Old Men           6.5        92.0   \n",
       "\n",
       "    day  month  release_year  weekday  \n",
       "0  30.0   10.0        1995.0    lunes  \n",
       "1  15.0   12.0        1995.0  viernes  \n",
       "2  22.0   12.0        1995.0  viernes  "
      ]
     },
     "execution_count": 32,
     "metadata": {},
     "output_type": "execute_result"
    }
   ],
   "source": [
    "df_movies_2.head(3)"
   ]
  },
  {
   "cell_type": "code",
   "execution_count": 33,
   "metadata": {},
   "outputs": [
    {
     "name": "stdout",
     "output_type": "stream",
     "text": [
      "<class 'pandas.core.frame.DataFrame'>\n",
      "Index: 23802 entries, 0 to 45465\n",
      "Data columns (total 10 columns):\n",
      " #   Column        Non-Null Count  Dtype         \n",
      "---  ------        --------------  -----         \n",
      " 0   id            23802 non-null  object        \n",
      " 1   popularity    23802 non-null  object        \n",
      " 2   release_date  23802 non-null  datetime64[ns]\n",
      " 3   title         23802 non-null  object        \n",
      " 4   vote_average  23802 non-null  float64       \n",
      " 5   vote_count    23802 non-null  float64       \n",
      " 6   day           23802 non-null  float64       \n",
      " 7   month         23802 non-null  float64       \n",
      " 8   release_year  23802 non-null  float64       \n",
      " 9   weekday       23802 non-null  object        \n",
      "dtypes: datetime64[ns](1), float64(5), object(4)\n",
      "memory usage: 2.0+ MB\n"
     ]
    }
   ],
   "source": [
    "df_movies_2.info()"
   ]
  },
  {
   "cell_type": "markdown",
   "metadata": {},
   "source": [
    "##### 2.2.1. Aclaración\n",
    "Se agrega la columna weekday al dataset porque la memoria usada casi no se incrementa."
   ]
  },
  {
   "cell_type": "code",
   "execution_count": 34,
   "metadata": {},
   "outputs": [],
   "source": [
    "data_movies = df_movies_2.to_csv('dataset/data_movies.csv')"
   ]
  },
  {
   "cell_type": "code",
   "execution_count": 35,
   "metadata": {},
   "outputs": [],
   "source": [
    "df = pd.read_csv('dataset/data_movies.csv')"
   ]
  },
  {
   "cell_type": "code",
   "execution_count": 36,
   "metadata": {},
   "outputs": [],
   "source": [
    "from fastapi import HTTPException\n",
    "\n",
    "def cantidad_filmaciones_dia(df, weekday: str):\n",
    "    \"\"\"Obtiene la cantidad de filmaciones según día de la semana indicado\n",
    "    Args:\n",
    "        df: DataFrame de películas \n",
    "        weekday (str): nombre del día de la semana en castellano\n",
    "    Raises:\n",
    "        HTTPException: en caso de que el día de la semana indicado no sea válido o no esté escrito en castellano o sea nulo\n",
    "    Returns:\n",
    "        _type_: entero o integer\n",
    "    \"\"\"\n",
    "    # Lista de días válidos en castellano\n",
    "    dias_validos = ['lunes', 'martes', 'miércoles',\n",
    "                    'jueves', 'viernes', 'sábado', 'domingo']\n",
    "    if weekday not in dias_validos:\n",
    "        raise HTTPException(\n",
    "            status_code=400, detail=f\"El día '{weekday}' no es válido.\")\n",
    "    # Filtrar las filas que corresponden al dia de la semana especificado\n",
    "    df_filter_day = df[df['weekday'] == weekday]\n",
    "    # Contar los IDs en las filas filtradas\n",
    "    count_ids = df_filter_day['id'].count()\n",
    "    return {\"endpoint2\": f\"Fueron estrenadas {count_ids} peliculas el dia {weekday}\"}"
   ]
  },
  {
   "cell_type": "code",
   "execution_count": 37,
   "metadata": {},
   "outputs": [
    {
     "data": {
      "text/plain": [
       "{'endpoint2': 'Fueron estrenadas 2103 peliculas el dia domingo'}"
      ]
     },
     "execution_count": 37,
     "metadata": {},
     "output_type": "execute_result"
    }
   ],
   "source": [
    "lunes = cantidad_filmaciones_dia(df, 'domingo')\n",
    "lunes"
   ]
  },
  {
   "cell_type": "markdown",
   "metadata": {},
   "source": [
    "### 2.3. Creación de la funcion para el endpoint3"
   ]
  },
  {
   "cell_type": "code",
   "execution_count": 54,
   "metadata": {},
   "outputs": [],
   "source": [
    "from fastapi import HTTPException\n",
    "\n",
    "def score_titulo(df, titulo_de_la_filmacion: str): \n",
    "    \"\"\"Obtiene el año de estreno y la popularidad de la película ingresada\n",
    "\n",
    "    Args:\n",
    "        df: DataFrame de películas\n",
    "        titulo_de_la_filmacion (str): nombre de la película\n",
    "    Raises:\n",
    "        HTTPException: en caso de que la película no esté escrita de forma correcta o no esté ingresada en el dataset o sea inexistente.\n",
    "    Returns:\n",
    "        _type_: str\n",
    "    \"\"\"\n",
    "    # Verificar si el título de la película está en el DataFrame\n",
    "    if titulo_de_la_filmacion not in df['title'].values:\n",
    "        raise HTTPException(\n",
    "            status_code=400, detail=f\"La película '{titulo_de_la_filmacion}' no ha sido estrenada o no está registrada en el dataset o es inexistente.\")\n",
    "    \n",
    "    # Filtrar la fila que corresponde a la película especificada\n",
    "    pelicula = df[df['title'] == titulo_de_la_filmacion]\n",
    "    \n",
    "    # Extrar año de estreno y popularidad\n",
    "    release_year = int(pelicula['release_year'].values[0])\n",
    "    popularity = round(pelicula['popularity'].values[0], 2)\n",
    "    return {'endpoint3': f\"La película {titulo_de_la_filmacion} fue estrenada en el año {release_year} con una popularidad de {popularity}\"}"
   ]
  },
  {
   "cell_type": "code",
   "execution_count": 55,
   "metadata": {},
   "outputs": [
    {
     "name": "stdout",
     "output_type": "stream",
     "text": [
      "{'endpoint3': 'La película Toy Story fue estrenada en el año 1995 con una popularidad de 21.95'}\n"
     ]
    }
   ],
   "source": [
    "endpoint3 = score_titulo(df, 'Toy Story')\n",
    "print(endpoint3)"
   ]
  },
  {
   "cell_type": "markdown",
   "metadata": {},
   "source": [
    "### 2.4. Creación de la funcion para el endpoint4"
   ]
  },
  {
   "cell_type": "code",
   "execution_count": 52,
   "metadata": {},
   "outputs": [],
   "source": [
    "from fastapi import HTTPException\n",
    "\n",
    "def votos_titulo(df, titulo_de_la_filmacion: str): \n",
    "    \"\"\"Obtiene el año de estreno, un total de valoraciones y un promedio según película ingresada\n",
    "\n",
    "    Args:\n",
    "        df: DataFrame de películas\n",
    "        titulo_de_la_filmacion (str): nombre de la película\n",
    "    Raises:\n",
    "        HTTPException: en caso de que la película no esté escrita de forma correcta, no esté ingresada en el dataset o sea inexistente. Además, debe contar con al menos 2000 valoraciones.\n",
    "    Returns:\n",
    "        dict: Contiene el año de estreno, total de valoraciones y el promedio de valoraciones.\n",
    "    \"\"\"\n",
    "    # Verificar si el título de la película está en el DataFrame\n",
    "    if titulo_de_la_filmacion not in df['title'].values:\n",
    "        raise HTTPException(\n",
    "            status_code=400, detail=f\"Puede ser que la película '{titulo_de_la_filmacion}': no haya sido estrenada, no esté registrada en el dataset, sea inexistente o no cuente con un mínimo de 2000 valoraciones.\")\n",
    "    \n",
    "    # Filtrar la fila que corresponde a la película especificada\n",
    "    pelicula = df[df['title'] == titulo_de_la_filmacion]\n",
    "    \n",
    "    # Extrar año de estreno y popularidad\n",
    "    release_year = int(pelicula['release_year'].values[0])\n",
    "    vote_count = int(pelicula['vote_count'].values[0])\n",
    "    vote_average = round(pelicula['vote_average'].values[0], 1)\n",
    "    \n",
    "    if vote_count < 2000:\n",
    "        return {'endpoint4': f\"La película {titulo_de_la_filmacion} no cuenta con un mínimo de 2000 valoraciones y por tanto no se devuelve ningún valor.\"}\n",
    "    \n",
    "    return {'endpoint4': f\"La película {titulo_de_la_filmacion} fue estrenada en el año {release_year}, cuenta con un total de {vote_count} valoraciones y un promedio de {vote_average} puntos.\"}"
   ]
  },
  {
   "cell_type": "code",
   "execution_count": 53,
   "metadata": {},
   "outputs": [
    {
     "name": "stdout",
     "output_type": "stream",
     "text": [
      "{'endpoint4': 'La película Toy Story fue estrenada en el año 1995, cuenta con un total de 5415 valoraciones y un promedio de 7.7 puntos.'}\n"
     ]
    }
   ],
   "source": [
    "endpoint4 = votos_titulo(df, 'Toy Story')\n",
    "print(endpoint4)"
   ]
  }
 ],
 "metadata": {
  "kernelspec": {
   "display_name": "venv",
   "language": "python",
   "name": "python3"
  },
  "language_info": {
   "codemirror_mode": {
    "name": "ipython",
    "version": 3
   },
   "file_extension": ".py",
   "mimetype": "text/x-python",
   "name": "python",
   "nbconvert_exporter": "python",
   "pygments_lexer": "ipython3",
   "version": "3.11.5"
  }
 },
 "nbformat": 4,
 "nbformat_minor": 2
}
