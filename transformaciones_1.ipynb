{
 "cells": [
  {
   "cell_type": "markdown",
   "metadata": {},
   "source": [
    "# Proyecto individual: Sistema de recomendación de películas\n",
    "​\n",
    "Este proyecto constará de dos fases: `Ingenieria de datos`, `Modelamiento y evaluación con machine learning`.\n",
    "\n",
    "### 1. Ingeniería de datos\n",
    "* Esto incluye la limpieza y transformación de los datos, abordando problemas como:\n",
    "    * valores faltantes, \n",
    "    * datos duplicados y variables irrelevantes,\n",
    "    * valores anidados,\n",
    "    * formateo de columnas,\n",
    "    * nubes de palabras para ver las más frecuentes.\n",
    "    * a fin de mejorar la calidad del dataset para el modelado.\n",
    "    * análisis univariado.\n",
    "    * análisis bivariado y multivariado.\n",
    "​\n",
    "### 2. Modelamiento y evaluación con machine learning\n",
    "* Implementar un modelo de clasificación con aprendizaje supervisado que permita clasificar (**con un algoritmo de coseno de similitud, por ejemplo**) las películas por ... para encontrar una lista de 5 películas similares "
   ]
  },
  {
   "cell_type": "markdown",
   "metadata": {},
   "source": [
    "### 1. Análisis exploratorio de datos"
   ]
  },
  {
   "cell_type": "markdown",
   "metadata": {},
   "source": [
    "#### 1.1. Importación de librerías"
   ]
  },
  {
   "cell_type": "code",
   "execution_count": 2,
   "metadata": {},
   "outputs": [],
   "source": [
    "import pandas as pd \n",
    "import numpy as np \n",
    "import matplotlib.pyplot as plt \n",
    "import seaborn as sns\n",
    "import datetime\n",
    "\n",
    "# Mostrar figuras de matplotlib en el entorno de Jupyter Notebook\n",
    "%matplotlib inline"
   ]
  },
  {
   "cell_type": "markdown",
   "metadata": {},
   "source": [
    "#### 1.2. Carga y visualización los datos."
   ]
  },
  {
   "cell_type": "code",
   "execution_count": 3,
   "metadata": {},
   "outputs": [
    {
     "name": "stderr",
     "output_type": "stream",
     "text": [
      "C:\\Users\\Josue\\AppData\\Local\\Temp\\ipykernel_3236\\2792449306.py:1: DtypeWarning: Columns (10) have mixed types. Specify dtype option on import or set low_memory=False.\n",
      "  df_movies = pd.read_csv('datasets/movies.csv')\n"
     ]
    },
    {
     "data": {
      "text/html": [
       "<div>\n",
       "<style scoped>\n",
       "    .dataframe tbody tr th:only-of-type {\n",
       "        vertical-align: middle;\n",
       "    }\n",
       "\n",
       "    .dataframe tbody tr th {\n",
       "        vertical-align: top;\n",
       "    }\n",
       "\n",
       "    .dataframe thead th {\n",
       "        text-align: right;\n",
       "    }\n",
       "</style>\n",
       "<table border=\"1\" class=\"dataframe\">\n",
       "  <thead>\n",
       "    <tr style=\"text-align: right;\">\n",
       "      <th></th>\n",
       "      <th>adult</th>\n",
       "      <th>belongs_to_collection</th>\n",
       "      <th>budget</th>\n",
       "      <th>genres</th>\n",
       "      <th>homepage</th>\n",
       "      <th>id</th>\n",
       "      <th>imdb_id</th>\n",
       "      <th>original_language</th>\n",
       "      <th>original_title</th>\n",
       "      <th>overview</th>\n",
       "      <th>...</th>\n",
       "      <th>release_date</th>\n",
       "      <th>revenue</th>\n",
       "      <th>runtime</th>\n",
       "      <th>spoken_languages</th>\n",
       "      <th>status</th>\n",
       "      <th>tagline</th>\n",
       "      <th>title</th>\n",
       "      <th>video</th>\n",
       "      <th>vote_average</th>\n",
       "      <th>vote_count</th>\n",
       "    </tr>\n",
       "  </thead>\n",
       "  <tbody>\n",
       "    <tr>\n",
       "      <th>0</th>\n",
       "      <td>False</td>\n",
       "      <td>{'id': 10194, 'name': 'Toy Story Collection', ...</td>\n",
       "      <td>30000000</td>\n",
       "      <td>[{'id': 16, 'name': 'Animation'}, {'id': 35, '...</td>\n",
       "      <td>http://toystory.disney.com/toy-story</td>\n",
       "      <td>862</td>\n",
       "      <td>tt0114709</td>\n",
       "      <td>en</td>\n",
       "      <td>Toy Story</td>\n",
       "      <td>Led by Woody, Andy's toys live happily in his ...</td>\n",
       "      <td>...</td>\n",
       "      <td>1995-10-30</td>\n",
       "      <td>373554033.0</td>\n",
       "      <td>81.0</td>\n",
       "      <td>[{'iso_639_1': 'en', 'name': 'English'}]</td>\n",
       "      <td>Released</td>\n",
       "      <td>NaN</td>\n",
       "      <td>Toy Story</td>\n",
       "      <td>False</td>\n",
       "      <td>7.7</td>\n",
       "      <td>5415.0</td>\n",
       "    </tr>\n",
       "    <tr>\n",
       "      <th>1</th>\n",
       "      <td>False</td>\n",
       "      <td>NaN</td>\n",
       "      <td>65000000</td>\n",
       "      <td>[{'id': 12, 'name': 'Adventure'}, {'id': 14, '...</td>\n",
       "      <td>NaN</td>\n",
       "      <td>8844</td>\n",
       "      <td>tt0113497</td>\n",
       "      <td>en</td>\n",
       "      <td>Jumanji</td>\n",
       "      <td>When siblings Judy and Peter discover an encha...</td>\n",
       "      <td>...</td>\n",
       "      <td>1995-12-15</td>\n",
       "      <td>262797249.0</td>\n",
       "      <td>104.0</td>\n",
       "      <td>[{'iso_639_1': 'en', 'name': 'English'}, {'iso...</td>\n",
       "      <td>Released</td>\n",
       "      <td>Roll the dice and unleash the excitement!</td>\n",
       "      <td>Jumanji</td>\n",
       "      <td>False</td>\n",
       "      <td>6.9</td>\n",
       "      <td>2413.0</td>\n",
       "    </tr>\n",
       "    <tr>\n",
       "      <th>2</th>\n",
       "      <td>False</td>\n",
       "      <td>{'id': 119050, 'name': 'Grumpy Old Men Collect...</td>\n",
       "      <td>0</td>\n",
       "      <td>[{'id': 10749, 'name': 'Romance'}, {'id': 35, ...</td>\n",
       "      <td>NaN</td>\n",
       "      <td>15602</td>\n",
       "      <td>tt0113228</td>\n",
       "      <td>en</td>\n",
       "      <td>Grumpier Old Men</td>\n",
       "      <td>A family wedding reignites the ancient feud be...</td>\n",
       "      <td>...</td>\n",
       "      <td>1995-12-22</td>\n",
       "      <td>0.0</td>\n",
       "      <td>101.0</td>\n",
       "      <td>[{'iso_639_1': 'en', 'name': 'English'}]</td>\n",
       "      <td>Released</td>\n",
       "      <td>Still Yelling. Still Fighting. Still Ready for...</td>\n",
       "      <td>Grumpier Old Men</td>\n",
       "      <td>False</td>\n",
       "      <td>6.5</td>\n",
       "      <td>92.0</td>\n",
       "    </tr>\n",
       "  </tbody>\n",
       "</table>\n",
       "<p>3 rows × 24 columns</p>\n",
       "</div>"
      ],
      "text/plain": [
       "   adult                              belongs_to_collection    budget  \\\n",
       "0  False  {'id': 10194, 'name': 'Toy Story Collection', ...  30000000   \n",
       "1  False                                                NaN  65000000   \n",
       "2  False  {'id': 119050, 'name': 'Grumpy Old Men Collect...         0   \n",
       "\n",
       "                                              genres  \\\n",
       "0  [{'id': 16, 'name': 'Animation'}, {'id': 35, '...   \n",
       "1  [{'id': 12, 'name': 'Adventure'}, {'id': 14, '...   \n",
       "2  [{'id': 10749, 'name': 'Romance'}, {'id': 35, ...   \n",
       "\n",
       "                               homepage     id    imdb_id original_language  \\\n",
       "0  http://toystory.disney.com/toy-story    862  tt0114709                en   \n",
       "1                                   NaN   8844  tt0113497                en   \n",
       "2                                   NaN  15602  tt0113228                en   \n",
       "\n",
       "     original_title                                           overview  ...  \\\n",
       "0         Toy Story  Led by Woody, Andy's toys live happily in his ...  ...   \n",
       "1           Jumanji  When siblings Judy and Peter discover an encha...  ...   \n",
       "2  Grumpier Old Men  A family wedding reignites the ancient feud be...  ...   \n",
       "\n",
       "  release_date      revenue runtime  \\\n",
       "0   1995-10-30  373554033.0    81.0   \n",
       "1   1995-12-15  262797249.0   104.0   \n",
       "2   1995-12-22          0.0   101.0   \n",
       "\n",
       "                                    spoken_languages    status  \\\n",
       "0           [{'iso_639_1': 'en', 'name': 'English'}]  Released   \n",
       "1  [{'iso_639_1': 'en', 'name': 'English'}, {'iso...  Released   \n",
       "2           [{'iso_639_1': 'en', 'name': 'English'}]  Released   \n",
       "\n",
       "                                             tagline             title  video  \\\n",
       "0                                                NaN         Toy Story  False   \n",
       "1          Roll the dice and unleash the excitement!           Jumanji  False   \n",
       "2  Still Yelling. Still Fighting. Still Ready for...  Grumpier Old Men  False   \n",
       "\n",
       "  vote_average vote_count  \n",
       "0          7.7     5415.0  \n",
       "1          6.9     2413.0  \n",
       "2          6.5       92.0  \n",
       "\n",
       "[3 rows x 24 columns]"
      ]
     },
     "execution_count": 3,
     "metadata": {},
     "output_type": "execute_result"
    }
   ],
   "source": [
    "df_movies = pd.read_csv('datasets/movies.csv')\n",
    "df_movies.head(3)"
   ]
  },
  {
   "cell_type": "markdown",
   "metadata": {},
   "source": [
    "#### 1.3. Eliminación de filas"
   ]
  },
  {
   "cell_type": "code",
   "execution_count": 4,
   "metadata": {},
   "outputs": [],
   "source": [
    "# Se eliminan las películas que su idioma original no es en inglés (habria que analizar que porcentaje representan)\n",
    "df_movies_1 = df_movies[df_movies['original_language'] == 'en']"
   ]
  },
  {
   "cell_type": "code",
   "execution_count": 5,
   "metadata": {},
   "outputs": [],
   "source": [
    "# Se filtran las filas con valores notna en las columnas 'video', 'status', 'release_date' \n",
    "df_movies_1 = df_movies_1[df_movies_1['video'].notna()] \n",
    "df_movies_1 = df_movies_1[df_movies_1['status'].notna()] \n",
    "df_movies_1 = df_movies_1[df_movies_1['release_date'].notna()] "
   ]
  },
  {
   "cell_type": "markdown",
   "metadata": {},
   "source": [
    "#### 1.4. Eliminación de columnas "
   ]
  },
  {
   "cell_type": "code",
   "execution_count": 6,
   "metadata": {},
   "outputs": [],
   "source": [
    "df_movies_2 = df_movies_1.drop(['adult', 'belongs_to_collection', 'status', 'genres', 'poster_path', 'homepage', 'imdb_id', 'overview', 'production_companies', 'production_countries', 'original_language', 'runtime', 'spoken_languages', 'tagline', 'original_title', 'video'], axis=1)\n"
   ]
  },
  {
   "cell_type": "code",
   "execution_count": 7,
   "metadata": {},
   "outputs": [
    {
     "data": {
      "text/html": [
       "<div>\n",
       "<style scoped>\n",
       "    .dataframe tbody tr th:only-of-type {\n",
       "        vertical-align: middle;\n",
       "    }\n",
       "\n",
       "    .dataframe tbody tr th {\n",
       "        vertical-align: top;\n",
       "    }\n",
       "\n",
       "    .dataframe thead th {\n",
       "        text-align: right;\n",
       "    }\n",
       "</style>\n",
       "<table border=\"1\" class=\"dataframe\">\n",
       "  <thead>\n",
       "    <tr style=\"text-align: right;\">\n",
       "      <th></th>\n",
       "      <th>budget</th>\n",
       "      <th>id</th>\n",
       "      <th>popularity</th>\n",
       "      <th>release_date</th>\n",
       "      <th>revenue</th>\n",
       "      <th>title</th>\n",
       "      <th>vote_average</th>\n",
       "      <th>vote_count</th>\n",
       "    </tr>\n",
       "  </thead>\n",
       "  <tbody>\n",
       "    <tr>\n",
       "      <th>0</th>\n",
       "      <td>30000000</td>\n",
       "      <td>862</td>\n",
       "      <td>21.946943</td>\n",
       "      <td>1995-10-30</td>\n",
       "      <td>373554033.0</td>\n",
       "      <td>Toy Story</td>\n",
       "      <td>7.7</td>\n",
       "      <td>5415.0</td>\n",
       "    </tr>\n",
       "    <tr>\n",
       "      <th>1</th>\n",
       "      <td>65000000</td>\n",
       "      <td>8844</td>\n",
       "      <td>17.015539</td>\n",
       "      <td>1995-12-15</td>\n",
       "      <td>262797249.0</td>\n",
       "      <td>Jumanji</td>\n",
       "      <td>6.9</td>\n",
       "      <td>2413.0</td>\n",
       "    </tr>\n",
       "    <tr>\n",
       "      <th>2</th>\n",
       "      <td>0</td>\n",
       "      <td>15602</td>\n",
       "      <td>11.7129</td>\n",
       "      <td>1995-12-22</td>\n",
       "      <td>0.0</td>\n",
       "      <td>Grumpier Old Men</td>\n",
       "      <td>6.5</td>\n",
       "      <td>92.0</td>\n",
       "    </tr>\n",
       "    <tr>\n",
       "      <th>3</th>\n",
       "      <td>16000000</td>\n",
       "      <td>31357</td>\n",
       "      <td>3.859495</td>\n",
       "      <td>1995-12-22</td>\n",
       "      <td>81452156.0</td>\n",
       "      <td>Waiting to Exhale</td>\n",
       "      <td>6.1</td>\n",
       "      <td>34.0</td>\n",
       "    </tr>\n",
       "    <tr>\n",
       "      <th>4</th>\n",
       "      <td>0</td>\n",
       "      <td>11862</td>\n",
       "      <td>8.387519</td>\n",
       "      <td>1995-02-10</td>\n",
       "      <td>76578911.0</td>\n",
       "      <td>Father of the Bride Part II</td>\n",
       "      <td>5.7</td>\n",
       "      <td>173.0</td>\n",
       "    </tr>\n",
       "  </tbody>\n",
       "</table>\n",
       "</div>"
      ],
      "text/plain": [
       "     budget     id popularity release_date      revenue  \\\n",
       "0  30000000    862  21.946943   1995-10-30  373554033.0   \n",
       "1  65000000   8844  17.015539   1995-12-15  262797249.0   \n",
       "2         0  15602    11.7129   1995-12-22          0.0   \n",
       "3  16000000  31357   3.859495   1995-12-22   81452156.0   \n",
       "4         0  11862   8.387519   1995-02-10   76578911.0   \n",
       "\n",
       "                         title  vote_average  vote_count  \n",
       "0                    Toy Story           7.7      5415.0  \n",
       "1                      Jumanji           6.9      2413.0  \n",
       "2             Grumpier Old Men           6.5        92.0  \n",
       "3            Waiting to Exhale           6.1        34.0  \n",
       "4  Father of the Bride Part II           5.7       173.0  "
      ]
     },
     "execution_count": 7,
     "metadata": {},
     "output_type": "execute_result"
    }
   ],
   "source": [
    "df_movies_2.head()"
   ]
  },
  {
   "cell_type": "markdown",
   "metadata": {},
   "source": [
    "#### 2.5. Transformación de valores nulos"
   ]
  },
  {
   "cell_type": "markdown",
   "metadata": {},
   "source": [
    "2.5.1. Primero se encuentra si existen valores nulos o vacíos"
   ]
  },
  {
   "cell_type": "code",
   "execution_count": 8,
   "metadata": {},
   "outputs": [
    {
     "name": "stdout",
     "output_type": "stream",
     "text": [
      "Valores nulos en el DataFrame:\n",
      "        budget  revenue\n",
      "0       False    False\n",
      "1       False    False\n",
      "2       False    False\n",
      "3       False    False\n",
      "4       False    False\n",
      "...       ...      ...\n",
      "45459   False    False\n",
      "45460   False    False\n",
      "45463   False    False\n",
      "45464   False    False\n",
      "45465   False    False\n",
      "\n",
      "[32135 rows x 2 columns]\n"
     ]
    }
   ],
   "source": [
    "# Encontrar valores nulos\n",
    "valores_nulos = df_movies_2[['budget', 'revenue']].isnull()\n",
    "print(\"Valores nulos en el DataFrame:\\n\", valores_nulos)"
   ]
  },
  {
   "cell_type": "code",
   "execution_count": 9,
   "metadata": {},
   "outputs": [
    {
     "name": "stdout",
     "output_type": "stream",
     "text": [
      "Valores nulos en 'budget': 0\n",
      "Valores nulos en 'revenue': 0\n"
     ]
    }
   ],
   "source": [
    "nulos_budget = df_movies_2['budget'].isnull().sum()\n",
    "nulos_revenue = df_movies_2['revenue'].isnull().sum()\n",
    "\n",
    "print(f\"Valores nulos en 'budget': {nulos_budget}\")\n",
    "print(f\"Valores nulos en 'revenue': {nulos_revenue}\")"
   ]
  },
  {
   "cell_type": "markdown",
   "metadata": {},
   "source": [
    "2.5.2. Luego se reemplaza por 0 y se verifica que no haya nulos"
   ]
  },
  {
   "cell_type": "code",
   "execution_count": 10,
   "metadata": {},
   "outputs": [],
   "source": [
    "df_movies_2[['budget', 'revenue']] = df_movies_2[['budget', 'revenue']].fillna(0)"
   ]
  },
  {
   "cell_type": "code",
   "execution_count": 11,
   "metadata": {},
   "outputs": [
    {
     "name": "stdout",
     "output_type": "stream",
     "text": [
      "Valores nulos en 'budget': 0\n",
      "Valores nulos en 'revenue': 0\n"
     ]
    }
   ],
   "source": [
    "nulos_budget = df_movies_2['budget'].isnull().sum()\n",
    "nulos_revenue = df_movies_2['revenue'].isnull().sum()\n",
    "\n",
    "print(f\"Valores nulos en 'budget': {nulos_budget}\")\n",
    "print(f\"Valores nulos en 'revenue': {nulos_revenue}\")"
   ]
  },
  {
   "cell_type": "markdown",
   "metadata": {},
   "source": [
    "#### 1.4. Distinción entre day, month y year en date"
   ]
  },
  {
   "cell_type": "code",
   "execution_count": 12,
   "metadata": {},
   "outputs": [
    {
     "name": "stdout",
     "output_type": "stream",
     "text": [
      "0   1995-10-30\n",
      "1   1995-12-15\n",
      "2   1995-12-22\n",
      "3   1995-12-22\n",
      "4   1995-02-10\n",
      "Name: release_date, dtype: datetime64[ns]\n"
     ]
    }
   ],
   "source": [
    "# Convertir la columna 'date' a datetime\n",
    "df_movies_2['release_date'] = pd.to_datetime(df_movies_2['release_date'], errors='coerce')\n",
    "\n",
    "# Verificar el formato de la columna 'date' después de la conversión\n",
    "print(df_movies_2['release_date'].head())"
   ]
  },
  {
   "cell_type": "code",
   "execution_count": 13,
   "metadata": {},
   "outputs": [],
   "source": [
    "# Crear nuevas columnas para día, mes y año\n",
    "df_movies_2['day'] = df_movies_2['release_date'].dt.day\n",
    "df_movies_2['month'] = df_movies_2['release_date'].dt.month\n",
    "df_movies_2['release_year'] = df_movies_2['release_date'].dt.year"
   ]
  },
  {
   "cell_type": "code",
   "execution_count": 14,
   "metadata": {},
   "outputs": [
    {
     "data": {
      "text/html": [
       "<div>\n",
       "<style scoped>\n",
       "    .dataframe tbody tr th:only-of-type {\n",
       "        vertical-align: middle;\n",
       "    }\n",
       "\n",
       "    .dataframe tbody tr th {\n",
       "        vertical-align: top;\n",
       "    }\n",
       "\n",
       "    .dataframe thead th {\n",
       "        text-align: right;\n",
       "    }\n",
       "</style>\n",
       "<table border=\"1\" class=\"dataframe\">\n",
       "  <thead>\n",
       "    <tr style=\"text-align: right;\">\n",
       "      <th></th>\n",
       "      <th>budget</th>\n",
       "      <th>id</th>\n",
       "      <th>popularity</th>\n",
       "      <th>release_date</th>\n",
       "      <th>revenue</th>\n",
       "      <th>title</th>\n",
       "      <th>vote_average</th>\n",
       "      <th>vote_count</th>\n",
       "      <th>day</th>\n",
       "      <th>month</th>\n",
       "      <th>release_year</th>\n",
       "    </tr>\n",
       "  </thead>\n",
       "  <tbody>\n",
       "    <tr>\n",
       "      <th>0</th>\n",
       "      <td>30000000</td>\n",
       "      <td>862</td>\n",
       "      <td>21.946943</td>\n",
       "      <td>1995-10-30</td>\n",
       "      <td>373554033.0</td>\n",
       "      <td>Toy Story</td>\n",
       "      <td>7.7</td>\n",
       "      <td>5415.0</td>\n",
       "      <td>30</td>\n",
       "      <td>10</td>\n",
       "      <td>1995</td>\n",
       "    </tr>\n",
       "    <tr>\n",
       "      <th>1</th>\n",
       "      <td>65000000</td>\n",
       "      <td>8844</td>\n",
       "      <td>17.015539</td>\n",
       "      <td>1995-12-15</td>\n",
       "      <td>262797249.0</td>\n",
       "      <td>Jumanji</td>\n",
       "      <td>6.9</td>\n",
       "      <td>2413.0</td>\n",
       "      <td>15</td>\n",
       "      <td>12</td>\n",
       "      <td>1995</td>\n",
       "    </tr>\n",
       "  </tbody>\n",
       "</table>\n",
       "</div>"
      ],
      "text/plain": [
       "     budget    id popularity release_date      revenue      title  \\\n",
       "0  30000000   862  21.946943   1995-10-30  373554033.0  Toy Story   \n",
       "1  65000000  8844  17.015539   1995-12-15  262797249.0    Jumanji   \n",
       "\n",
       "   vote_average  vote_count  day  month  release_year  \n",
       "0           7.7      5415.0   30     10          1995  \n",
       "1           6.9      2413.0   15     12          1995  "
      ]
     },
     "execution_count": 14,
     "metadata": {},
     "output_type": "execute_result"
    }
   ],
   "source": [
    "df_movies_2.head(2)"
   ]
  },
  {
   "cell_type": "code",
   "execution_count": 15,
   "metadata": {},
   "outputs": [
    {
     "name": "stdout",
     "output_type": "stream",
     "text": [
      "<class 'pandas.core.frame.DataFrame'>\n",
      "Index: 32135 entries, 0 to 45465\n",
      "Data columns (total 11 columns):\n",
      " #   Column        Non-Null Count  Dtype         \n",
      "---  ------        --------------  -----         \n",
      " 0   budget        32135 non-null  object        \n",
      " 1   id            32135 non-null  object        \n",
      " 2   popularity    32135 non-null  object        \n",
      " 3   release_date  32135 non-null  datetime64[ns]\n",
      " 4   revenue       32135 non-null  float64       \n",
      " 5   title         32135 non-null  object        \n",
      " 6   vote_average  32135 non-null  float64       \n",
      " 7   vote_count    32135 non-null  float64       \n",
      " 8   day           32135 non-null  int32         \n",
      " 9   month         32135 non-null  int32         \n",
      " 10  release_year  32135 non-null  int32         \n",
      "dtypes: datetime64[ns](1), float64(3), int32(3), object(4)\n",
      "memory usage: 2.6+ MB\n"
     ]
    }
   ],
   "source": [
    "df_movies_2.info()"
   ]
  },
  {
   "cell_type": "code",
   "execution_count": 16,
   "metadata": {},
   "outputs": [
    {
     "data": {
      "text/html": [
       "<div>\n",
       "<style scoped>\n",
       "    .dataframe tbody tr th:only-of-type {\n",
       "        vertical-align: middle;\n",
       "    }\n",
       "\n",
       "    .dataframe tbody tr th {\n",
       "        vertical-align: top;\n",
       "    }\n",
       "\n",
       "    .dataframe thead th {\n",
       "        text-align: right;\n",
       "    }\n",
       "</style>\n",
       "<table border=\"1\" class=\"dataframe\">\n",
       "  <thead>\n",
       "    <tr style=\"text-align: right;\">\n",
       "      <th></th>\n",
       "      <th>release_date</th>\n",
       "      <th>revenue</th>\n",
       "      <th>vote_average</th>\n",
       "      <th>vote_count</th>\n",
       "      <th>day</th>\n",
       "      <th>month</th>\n",
       "      <th>release_year</th>\n",
       "    </tr>\n",
       "  </thead>\n",
       "  <tbody>\n",
       "    <tr>\n",
       "      <th>count</th>\n",
       "      <td>32135</td>\n",
       "      <td>3.213500e+04</td>\n",
       "      <td>32135.000000</td>\n",
       "      <td>32135.000000</td>\n",
       "      <td>32135.000000</td>\n",
       "      <td>32135.000000</td>\n",
       "      <td>32135.000000</td>\n",
       "    </tr>\n",
       "    <tr>\n",
       "      <th>mean</th>\n",
       "      <td>1991-08-10 06:16:46.229967360</td>\n",
       "      <td>1.523424e+07</td>\n",
       "      <td>5.500386</td>\n",
       "      <td>142.134744</td>\n",
       "      <td>14.120492</td>\n",
       "      <td>6.451066</td>\n",
       "      <td>1991.117037</td>\n",
       "    </tr>\n",
       "    <tr>\n",
       "      <th>min</th>\n",
       "      <td>1878-06-14 00:00:00</td>\n",
       "      <td>0.000000e+00</td>\n",
       "      <td>0.000000</td>\n",
       "      <td>0.000000</td>\n",
       "      <td>1.000000</td>\n",
       "      <td>1.000000</td>\n",
       "      <td>1878.000000</td>\n",
       "    </tr>\n",
       "    <tr>\n",
       "      <th>25%</th>\n",
       "      <td>1978-04-06 00:00:00</td>\n",
       "      <td>0.000000e+00</td>\n",
       "      <td>5.000000</td>\n",
       "      <td>3.000000</td>\n",
       "      <td>6.000000</td>\n",
       "      <td>3.000000</td>\n",
       "      <td>1978.000000</td>\n",
       "    </tr>\n",
       "    <tr>\n",
       "      <th>50%</th>\n",
       "      <td>2000-12-22 00:00:00</td>\n",
       "      <td>0.000000e+00</td>\n",
       "      <td>5.900000</td>\n",
       "      <td>10.000000</td>\n",
       "      <td>14.000000</td>\n",
       "      <td>7.000000</td>\n",
       "      <td>2000.000000</td>\n",
       "    </tr>\n",
       "    <tr>\n",
       "      <th>75%</th>\n",
       "      <td>2010-10-08 12:00:00</td>\n",
       "      <td>0.000000e+00</td>\n",
       "      <td>6.700000</td>\n",
       "      <td>43.000000</td>\n",
       "      <td>22.000000</td>\n",
       "      <td>10.000000</td>\n",
       "      <td>2010.000000</td>\n",
       "    </tr>\n",
       "    <tr>\n",
       "      <th>max</th>\n",
       "      <td>2020-12-16 00:00:00</td>\n",
       "      <td>2.787965e+09</td>\n",
       "      <td>10.000000</td>\n",
       "      <td>14075.000000</td>\n",
       "      <td>31.000000</td>\n",
       "      <td>12.000000</td>\n",
       "      <td>2020.000000</td>\n",
       "    </tr>\n",
       "    <tr>\n",
       "      <th>std</th>\n",
       "      <td>NaN</td>\n",
       "      <td>7.572686e+07</td>\n",
       "      <td>1.927359</td>\n",
       "      <td>575.694965</td>\n",
       "      <td>9.259583</td>\n",
       "      <td>3.597951</td>\n",
       "      <td>24.724798</td>\n",
       "    </tr>\n",
       "  </tbody>\n",
       "</table>\n",
       "</div>"
      ],
      "text/plain": [
       "                        release_date       revenue  vote_average  \\\n",
       "count                          32135  3.213500e+04  32135.000000   \n",
       "mean   1991-08-10 06:16:46.229967360  1.523424e+07      5.500386   \n",
       "min              1878-06-14 00:00:00  0.000000e+00      0.000000   \n",
       "25%              1978-04-06 00:00:00  0.000000e+00      5.000000   \n",
       "50%              2000-12-22 00:00:00  0.000000e+00      5.900000   \n",
       "75%              2010-10-08 12:00:00  0.000000e+00      6.700000   \n",
       "max              2020-12-16 00:00:00  2.787965e+09     10.000000   \n",
       "std                              NaN  7.572686e+07      1.927359   \n",
       "\n",
       "         vote_count           day         month  release_year  \n",
       "count  32135.000000  32135.000000  32135.000000  32135.000000  \n",
       "mean     142.134744     14.120492      6.451066   1991.117037  \n",
       "min        0.000000      1.000000      1.000000   1878.000000  \n",
       "25%        3.000000      6.000000      3.000000   1978.000000  \n",
       "50%       10.000000     14.000000      7.000000   2000.000000  \n",
       "75%       43.000000     22.000000     10.000000   2010.000000  \n",
       "max    14075.000000     31.000000     12.000000   2020.000000  \n",
       "std      575.694965      9.259583      3.597951     24.724798  "
      ]
     },
     "execution_count": 16,
     "metadata": {},
     "output_type": "execute_result"
    }
   ],
   "source": [
    "df_movies_2.describe()"
   ]
  },
  {
   "cell_type": "markdown",
   "metadata": {},
   "source": [
    "#### 1.6. Eliminación de filas con las películas anteriores a 1980, eliminando así más del 25 % de los datos"
   ]
  },
  {
   "cell_type": "code",
   "execution_count": 17,
   "metadata": {},
   "outputs": [],
   "source": [
    "df_movies_2 = df_movies_2[df_movies_2['release_year'] >= 1990]"
   ]
  },
  {
   "cell_type": "code",
   "execution_count": 18,
   "metadata": {},
   "outputs": [
    {
     "name": "stdout",
     "output_type": "stream",
     "text": [
      "<class 'pandas.core.frame.DataFrame'>\n",
      "Index: 20909 entries, 0 to 45465\n",
      "Data columns (total 11 columns):\n",
      " #   Column        Non-Null Count  Dtype         \n",
      "---  ------        --------------  -----         \n",
      " 0   budget        20909 non-null  object        \n",
      " 1   id            20909 non-null  object        \n",
      " 2   popularity    20909 non-null  object        \n",
      " 3   release_date  20909 non-null  datetime64[ns]\n",
      " 4   revenue       20909 non-null  float64       \n",
      " 5   title         20909 non-null  object        \n",
      " 6   vote_average  20909 non-null  float64       \n",
      " 7   vote_count    20909 non-null  float64       \n",
      " 8   day           20909 non-null  int32         \n",
      " 9   month         20909 non-null  int32         \n",
      " 10  release_year  20909 non-null  int32         \n",
      "dtypes: datetime64[ns](1), float64(3), int32(3), object(4)\n",
      "memory usage: 1.7+ MB\n"
     ]
    }
   ],
   "source": [
    "df_movies_2.info()"
   ]
  },
  {
   "cell_type": "markdown",
   "metadata": {},
   "source": [
    "## 2.1. Creación de la funcion para el endpoint1"
   ]
  },
  {
   "cell_type": "code",
   "execution_count": 19,
   "metadata": {},
   "outputs": [],
   "source": [
    "month_mapping = {\n",
    "    \"enero\": 1, \"febrero\": 2, \"marzo\": 3, \"abril\": 4,\n",
    "    \"mayo\": 5, \"junio\": 6, \"julio\": 7, \"agosto\": 8,\n",
    "    \"septiembre\": 9, \"octubre\": 10, \"noviembre\": 11, \"diciembre\": 12\n",
    "}"
   ]
  },
  {
   "cell_type": "code",
   "execution_count": 20,
   "metadata": {},
   "outputs": [],
   "source": [
    "def cantidad_filmaciones_mes(df, month: str):\n",
    "    \"\"\"Obtiene la cantidad de filmaciones según mes indicado\n",
    "    Args:\n",
    "        df: DataFrame de películas \n",
    "        month (str): nombre del mes en castellano\n",
    "    Raises:\n",
    "        HTTPException: en caso de que el mes indicado no sea válido o no esté escrito en castellano o sea nulo\n",
    "    Returns:\n",
    "        _type_: entero o integer\n",
    "    \"\"\"\n",
    "    # Convertir el nombre del mes a su número correspondiente\n",
    "    month_number = month_mapping.get(month.lower())\n",
    "    if month_number is None:\n",
    "        raise ValueError(f\"Mes '{month}' no es válido.\")\n",
    "    # Filtrar las filas que corresponden al mes especificado\n",
    "    filtered_df = df[df['month'] == month_number]\n",
    "    # Contar los IDs en las filas filtradas\n",
    "    count_ids = filtered_df['id'].count()\n",
    "    return {\"endpoint1\": f\"Fueron estrenadas {count_ids} peliculas en el mes de {month}\"}"
   ]
  },
  {
   "cell_type": "code",
   "execution_count": 21,
   "metadata": {},
   "outputs": [
    {
     "data": {
      "text/plain": [
       "{'endpoint1': 'Fueron estrenadas 2821 peliculas en el mes de enero'}"
      ]
     },
     "execution_count": 21,
     "metadata": {},
     "output_type": "execute_result"
    }
   ],
   "source": [
    "cantidad_filmaciones_mes(df=df_movies_2, month='enero')"
   ]
  },
  {
   "cell_type": "markdown",
   "metadata": {},
   "source": [
    "## 2.2. Creación de la funcion para el endpoint2"
   ]
  },
  {
   "cell_type": "code",
   "execution_count": 22,
   "metadata": {},
   "outputs": [],
   "source": [
    "# Función para obtener el día de la semana\n",
    "def obtener_dia_semana(fecha):\n",
    "    dias_semana = ['lunes', 'martes', 'miércoles', 'jueves', 'viernes', 'sábado', 'domingo']\n",
    "    if pd.notnull(fecha):\n",
    "        return dias_semana[int(fecha.day_of_week)]\n",
    "    else:\n",
    "        return 'fecha inválida'\n",
    "\n",
    "# Aplicar la función a la columna 'release_date'\n",
    "df_movies_2['weekday'] = df_movies_2['release_date'].apply(obtener_dia_semana)\n",
    "\n",
    "# Se eliminan las filas con valor de celda 'fecha inválida'\n",
    "df_movies_2 = df_movies_2[df_movies_2['weekday'] != 'fecha inválida']"
   ]
  },
  {
   "cell_type": "code",
   "execution_count": 23,
   "metadata": {},
   "outputs": [
    {
     "data": {
      "text/html": [
       "<div>\n",
       "<style scoped>\n",
       "    .dataframe tbody tr th:only-of-type {\n",
       "        vertical-align: middle;\n",
       "    }\n",
       "\n",
       "    .dataframe tbody tr th {\n",
       "        vertical-align: top;\n",
       "    }\n",
       "\n",
       "    .dataframe thead th {\n",
       "        text-align: right;\n",
       "    }\n",
       "</style>\n",
       "<table border=\"1\" class=\"dataframe\">\n",
       "  <thead>\n",
       "    <tr style=\"text-align: right;\">\n",
       "      <th></th>\n",
       "      <th>budget</th>\n",
       "      <th>id</th>\n",
       "      <th>popularity</th>\n",
       "      <th>release_date</th>\n",
       "      <th>revenue</th>\n",
       "      <th>title</th>\n",
       "      <th>vote_average</th>\n",
       "      <th>vote_count</th>\n",
       "      <th>day</th>\n",
       "      <th>month</th>\n",
       "      <th>release_year</th>\n",
       "      <th>weekday</th>\n",
       "    </tr>\n",
       "  </thead>\n",
       "  <tbody>\n",
       "    <tr>\n",
       "      <th>0</th>\n",
       "      <td>30000000</td>\n",
       "      <td>862</td>\n",
       "      <td>21.946943</td>\n",
       "      <td>1995-10-30</td>\n",
       "      <td>373554033.0</td>\n",
       "      <td>Toy Story</td>\n",
       "      <td>7.7</td>\n",
       "      <td>5415.0</td>\n",
       "      <td>30</td>\n",
       "      <td>10</td>\n",
       "      <td>1995</td>\n",
       "      <td>lunes</td>\n",
       "    </tr>\n",
       "    <tr>\n",
       "      <th>1</th>\n",
       "      <td>65000000</td>\n",
       "      <td>8844</td>\n",
       "      <td>17.015539</td>\n",
       "      <td>1995-12-15</td>\n",
       "      <td>262797249.0</td>\n",
       "      <td>Jumanji</td>\n",
       "      <td>6.9</td>\n",
       "      <td>2413.0</td>\n",
       "      <td>15</td>\n",
       "      <td>12</td>\n",
       "      <td>1995</td>\n",
       "      <td>viernes</td>\n",
       "    </tr>\n",
       "    <tr>\n",
       "      <th>2</th>\n",
       "      <td>0</td>\n",
       "      <td>15602</td>\n",
       "      <td>11.7129</td>\n",
       "      <td>1995-12-22</td>\n",
       "      <td>0.0</td>\n",
       "      <td>Grumpier Old Men</td>\n",
       "      <td>6.5</td>\n",
       "      <td>92.0</td>\n",
       "      <td>22</td>\n",
       "      <td>12</td>\n",
       "      <td>1995</td>\n",
       "      <td>viernes</td>\n",
       "    </tr>\n",
       "  </tbody>\n",
       "</table>\n",
       "</div>"
      ],
      "text/plain": [
       "     budget     id popularity release_date      revenue             title  \\\n",
       "0  30000000    862  21.946943   1995-10-30  373554033.0         Toy Story   \n",
       "1  65000000   8844  17.015539   1995-12-15  262797249.0           Jumanji   \n",
       "2         0  15602    11.7129   1995-12-22          0.0  Grumpier Old Men   \n",
       "\n",
       "   vote_average  vote_count  day  month  release_year  weekday  \n",
       "0           7.7      5415.0   30     10          1995    lunes  \n",
       "1           6.9      2413.0   15     12          1995  viernes  \n",
       "2           6.5        92.0   22     12          1995  viernes  "
      ]
     },
     "execution_count": 23,
     "metadata": {},
     "output_type": "execute_result"
    }
   ],
   "source": [
    "df_movies_2.head(3)"
   ]
  },
  {
   "cell_type": "code",
   "execution_count": 24,
   "metadata": {},
   "outputs": [
    {
     "name": "stdout",
     "output_type": "stream",
     "text": [
      "<class 'pandas.core.frame.DataFrame'>\n",
      "Index: 20909 entries, 0 to 45465\n",
      "Data columns (total 12 columns):\n",
      " #   Column        Non-Null Count  Dtype         \n",
      "---  ------        --------------  -----         \n",
      " 0   budget        20909 non-null  object        \n",
      " 1   id            20909 non-null  object        \n",
      " 2   popularity    20909 non-null  object        \n",
      " 3   release_date  20909 non-null  datetime64[ns]\n",
      " 4   revenue       20909 non-null  float64       \n",
      " 5   title         20909 non-null  object        \n",
      " 6   vote_average  20909 non-null  float64       \n",
      " 7   vote_count    20909 non-null  float64       \n",
      " 8   day           20909 non-null  int32         \n",
      " 9   month         20909 non-null  int32         \n",
      " 10  release_year  20909 non-null  int32         \n",
      " 11  weekday       20909 non-null  object        \n",
      "dtypes: datetime64[ns](1), float64(3), int32(3), object(5)\n",
      "memory usage: 1.8+ MB\n"
     ]
    }
   ],
   "source": [
    "df_movies_2.info()"
   ]
  },
  {
   "cell_type": "markdown",
   "metadata": {},
   "source": [
    "##### 2.2.1. Aclaración\n",
    "Se agrega la columna weekday al dataset porque la memoria usada no se casi incrementada, pasando de 2.1 a 2.2 mb"
   ]
  },
  {
   "cell_type": "code",
   "execution_count": 25,
   "metadata": {},
   "outputs": [],
   "source": [
    "data_movies = df_movies_2.to_csv('dataset/data_movies.csv')"
   ]
  },
  {
   "cell_type": "code",
   "execution_count": 26,
   "metadata": {},
   "outputs": [],
   "source": [
    "df = pd.read_csv('dataset/data_movies.csv')"
   ]
  },
  {
   "cell_type": "code",
   "execution_count": 27,
   "metadata": {},
   "outputs": [],
   "source": [
    "from fastapi import HTTPException\n",
    "\n",
    "def cantidad_filmaciones_dia(df, weekday: str):\n",
    "    \"\"\"Obtiene la cantidad de filmaciones según día de la semana indicado\n",
    "    Args:\n",
    "        df: DataFrame de películas \n",
    "        weekday (str): nombre del día de la semana en castellano\n",
    "    Raises:\n",
    "        HTTPException: en caso de que el día de la semana indicado no sea válido o no esté escrito en castellano o sea nulo\n",
    "    Returns:\n",
    "        _type_: entero o integer\n",
    "    \"\"\"\n",
    "    # Lista de días válidos en castellano\n",
    "    dias_validos = ['lunes', 'martes', 'miércoles',\n",
    "                    'jueves', 'viernes', 'sábado', 'domingo']\n",
    "    if weekday not in dias_validos:\n",
    "        raise HTTPException(\n",
    "            status_code=400, detail=f\"El día '{weekday}' no es válido.\")\n",
    "    # Filtrar las filas que corresponden al dia de la semana especificado\n",
    "    df_filter_day = df[df['weekday'] == weekday]\n",
    "    # Contar los IDs en las filas filtradas\n",
    "    count_ids = df_filter_day['id'].count()\n",
    "    return {\"endpoint2\": f\"Fueron estrenadas {count_ids} peliculas el dia {weekday}\"}"
   ]
  },
  {
   "cell_type": "code",
   "execution_count": 28,
   "metadata": {},
   "outputs": [
    {
     "data": {
      "text/plain": [
       "{'endpoint2': 'Fueron estrenadas 1873 peliculas el dia domingo'}"
      ]
     },
     "execution_count": 28,
     "metadata": {},
     "output_type": "execute_result"
    }
   ],
   "source": [
    "lunes = cantidad_filmaciones_dia(df, 'domingo')\n",
    "lunes"
   ]
  },
  {
   "cell_type": "markdown",
   "metadata": {},
   "source": [
    "## 2.3. Creación de la funcion para el endpoint3"
   ]
  },
  {
   "cell_type": "code",
   "execution_count": 31,
   "metadata": {},
   "outputs": [],
   "source": [
    "from fastapi import HTTPException\n",
    "\n",
    "def score_titulo(df, titulo_de_la_filmacion: str): \n",
    "    \"\"\"Obtiene el año de estreno y la popularidad de la película ingresada\n",
    "\n",
    "    Args:\n",
    "        df: DataFrame de películas\n",
    "        titulo_de_la_filmacion (str): nombre de la película\n",
    "    Raises:\n",
    "        HTTPException: en caso de que la película no esté escrita de forma correcta o no esté ingresada en el dataset o sea inexistente.\n",
    "    Returns:\n",
    "        _type_: str\n",
    "    \"\"\"\n",
    "    # Verificar si el título de la película está en el DataFrame\n",
    "    if titulo_de_la_filmacion not in df['title'].values:\n",
    "        raise HTTPException(\n",
    "            status_code=400, detail=f\"La película '{titulo_de_la_filmacion}' no ha sido estrenada o no está registrada en el dataset o es inexistente.\")\n",
    "    \n",
    "    # Filtrar la fila que corresponde a la película especificada\n",
    "    pelicula = df[df['title'] == titulo_de_la_filmacion]\n",
    "    \n",
    "    # Extrar año de estreno y popularidad\n",
    "    release_year = pelicula['release_year'].values[0]\n",
    "    popularity = pelicula['popularity'].values[0]\n",
    "    return {'endpoint3': f\"La película {titulo_de_la_filmacion} fue estrenada en el año {release_year} con una popularidad de {popularity}\"}"
   ]
  },
  {
   "cell_type": "code",
   "execution_count": 32,
   "metadata": {},
   "outputs": [
    {
     "name": "stdout",
     "output_type": "stream",
     "text": [
      "{'endpoint3': 'La película Toy Story fue estrenada en el año 1995 con una popularidad de 21.946943'}\n"
     ]
    }
   ],
   "source": [
    "endpoint3 = score_titulo(df, 'Toy Story')\n",
    "print(endpoint3)"
   ]
  }
 ],
 "metadata": {
  "kernelspec": {
   "display_name": "venv",
   "language": "python",
   "name": "python3"
  },
  "language_info": {
   "codemirror_mode": {
    "name": "ipython",
    "version": 3
   },
   "file_extension": ".py",
   "mimetype": "text/x-python",
   "name": "python",
   "nbconvert_exporter": "python",
   "pygments_lexer": "ipython3",
   "version": "3.11.5"
  }
 },
 "nbformat": 4,
 "nbformat_minor": 2
}
