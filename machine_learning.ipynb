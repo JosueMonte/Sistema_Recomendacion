{
 "cells": [
  {
   "cell_type": "markdown",
   "metadata": {},
   "source": [
    "# Proyecto individual: Sistema de recomendación de películas\n",
    "​\n",
    "Este proyecto constará de dos fases: `Ingenieria de datos`, `Modelamiento y evaluación con machine learning`.\n",
    "\n",
    "## 1. Ingeniería de datos\n",
    "### 1.1. Transformaciones de datos\n",
    "### 1.2. Análisis exploratorio de datos o EDA\n",
    "## 2. Modelamiento y evaluación con machine learning\n",
    "* Implementar un modelo de clasificación con aprendizaje supervisado que permita clasificar (**con un algoritmo de similitud de coseno**) las 5 películas más similares considerando estas variables:\n",
    "    * release_year,\n",
    "    * budget,\n",
    "    * popularity,\n",
    "    * vote_average,\n",
    "    * genres_name,\n",
    "    * studios_name.               "
   ]
  },
  {
   "cell_type": "markdown",
   "metadata": {},
   "source": [
    "## 2. Modelamiento y evaluación"
   ]
  },
  {
   "cell_type": "markdown",
   "metadata": {},
   "source": [
    "#### 2.1. Consideraciones\n",
    "* 2.1.1. Se procederá a probar los tiempos de ejecución con distintas variables, primero numéricas, y luego se agregarán las categóricas. Se buscará que el algoritmo en esta computadora se demore menos a 5 segundos.\n",
    "* 2.1.2. Se opta por trabajar solo con 6 variables porque por experiencia es un buen número. Esto quiere decir que se descartan columnas que se trabajaron en el eda, como ser:\n",
    "    * revenue,\n",
    "    * return,\n",
    "    * vote_count.\n",
    "* 2.1.3. Se podría haber realizado un feature importance o una matriz de correlación, pero el trabajo entre variable cualitativas y numéricas es pesado y no tiene sentido para este MVP."
   ]
  },
  {
   "cell_type": "markdown",
   "metadata": {},
   "source": [
    "#### 2.2. Importación de la librería"
   ]
  },
  {
   "cell_type": "code",
   "execution_count": 21,
   "metadata": {},
   "outputs": [],
   "source": [
    "import pandas as pd \n",
    "import numpy as np\n",
    "from sklearn.feature_extraction.text import TfidfVectorizer\n",
    "from sklearn.metrics.pairwise import cosine_similarity\n",
    "from sklearn.preprocessing import MultiLabelBinarizer"
   ]
  },
  {
   "cell_type": "markdown",
   "metadata": {},
   "source": [
    "#### 2.3. Carga y visualización del DataFrame"
   ]
  },
  {
   "cell_type": "code",
   "execution_count": 22,
   "metadata": {},
   "outputs": [
    {
     "data": {
      "text/html": [
       "<div>\n",
       "<style scoped>\n",
       "    .dataframe tbody tr th:only-of-type {\n",
       "        vertical-align: middle;\n",
       "    }\n",
       "\n",
       "    .dataframe tbody tr th {\n",
       "        vertical-align: top;\n",
       "    }\n",
       "\n",
       "    .dataframe thead th {\n",
       "        text-align: right;\n",
       "    }\n",
       "</style>\n",
       "<table border=\"1\" class=\"dataframe\">\n",
       "  <thead>\n",
       "    <tr style=\"text-align: right;\">\n",
       "      <th></th>\n",
       "      <th>budget</th>\n",
       "      <th>popularity</th>\n",
       "      <th>revenue</th>\n",
       "      <th>title</th>\n",
       "      <th>vote_average</th>\n",
       "      <th>vote_count</th>\n",
       "      <th>release_year</th>\n",
       "      <th>studios_name</th>\n",
       "      <th>genres_name</th>\n",
       "      <th>return</th>\n",
       "    </tr>\n",
       "  </thead>\n",
       "  <tbody>\n",
       "    <tr>\n",
       "      <th>0</th>\n",
       "      <td>30000000.0</td>\n",
       "      <td>21.95</td>\n",
       "      <td>373554033.0</td>\n",
       "      <td>Toy Story</td>\n",
       "      <td>7.7</td>\n",
       "      <td>5415.0</td>\n",
       "      <td>1995</td>\n",
       "      <td>['Pixar Animation Studios']</td>\n",
       "      <td>['Animation', 'Comedy', 'Family']</td>\n",
       "      <td>12.451801</td>\n",
       "    </tr>\n",
       "    <tr>\n",
       "      <th>1</th>\n",
       "      <td>65000000.0</td>\n",
       "      <td>17.02</td>\n",
       "      <td>262797249.0</td>\n",
       "      <td>Jumanji</td>\n",
       "      <td>6.9</td>\n",
       "      <td>2413.0</td>\n",
       "      <td>1995</td>\n",
       "      <td>['TriStar Pictures', 'Teitler Film', 'Intersco...</td>\n",
       "      <td>['Adventure', 'Fantasy', 'Family']</td>\n",
       "      <td>4.043035</td>\n",
       "    </tr>\n",
       "    <tr>\n",
       "      <th>2</th>\n",
       "      <td>16000000.0</td>\n",
       "      <td>3.86</td>\n",
       "      <td>81452156.0</td>\n",
       "      <td>Waiting to Exhale</td>\n",
       "      <td>6.1</td>\n",
       "      <td>34.0</td>\n",
       "      <td>1995</td>\n",
       "      <td>['Twentieth Century Fox Film Corporation']</td>\n",
       "      <td>['Comedy', 'Drama', 'Romance']</td>\n",
       "      <td>5.090760</td>\n",
       "    </tr>\n",
       "    <tr>\n",
       "      <th>3</th>\n",
       "      <td>60000000.0</td>\n",
       "      <td>17.92</td>\n",
       "      <td>187436818.0</td>\n",
       "      <td>Heat</td>\n",
       "      <td>7.7</td>\n",
       "      <td>1886.0</td>\n",
       "      <td>1995</td>\n",
       "      <td>['Regency Enterprises', 'Forward Pass', 'Warne...</td>\n",
       "      <td>['Action', 'Crime', 'Drama', 'Thriller']</td>\n",
       "      <td>3.123947</td>\n",
       "    </tr>\n",
       "    <tr>\n",
       "      <th>4</th>\n",
       "      <td>35000000.0</td>\n",
       "      <td>5.23</td>\n",
       "      <td>64350171.0</td>\n",
       "      <td>Sudden Death</td>\n",
       "      <td>5.5</td>\n",
       "      <td>174.0</td>\n",
       "      <td>1995</td>\n",
       "      <td>['Universal Pictures', 'Imperial Entertainment...</td>\n",
       "      <td>['Action', 'Adventure', 'Thriller']</td>\n",
       "      <td>1.838576</td>\n",
       "    </tr>\n",
       "  </tbody>\n",
       "</table>\n",
       "</div>"
      ],
      "text/plain": [
       "       budget  popularity      revenue              title  vote_average  \\\n",
       "0  30000000.0       21.95  373554033.0          Toy Story           7.7   \n",
       "1  65000000.0       17.02  262797249.0            Jumanji           6.9   \n",
       "2  16000000.0        3.86   81452156.0  Waiting to Exhale           6.1   \n",
       "3  60000000.0       17.92  187436818.0               Heat           7.7   \n",
       "4  35000000.0        5.23   64350171.0       Sudden Death           5.5   \n",
       "\n",
       "   vote_count  release_year  \\\n",
       "0      5415.0          1995   \n",
       "1      2413.0          1995   \n",
       "2        34.0          1995   \n",
       "3      1886.0          1995   \n",
       "4       174.0          1995   \n",
       "\n",
       "                                        studios_name  \\\n",
       "0                        ['Pixar Animation Studios']   \n",
       "1  ['TriStar Pictures', 'Teitler Film', 'Intersco...   \n",
       "2         ['Twentieth Century Fox Film Corporation']   \n",
       "3  ['Regency Enterprises', 'Forward Pass', 'Warne...   \n",
       "4  ['Universal Pictures', 'Imperial Entertainment...   \n",
       "\n",
       "                                genres_name     return  \n",
       "0         ['Animation', 'Comedy', 'Family']  12.451801  \n",
       "1        ['Adventure', 'Fantasy', 'Family']   4.043035  \n",
       "2            ['Comedy', 'Drama', 'Romance']   5.090760  \n",
       "3  ['Action', 'Crime', 'Drama', 'Thriller']   3.123947  \n",
       "4       ['Action', 'Adventure', 'Thriller']   1.838576  "
      ]
     },
     "execution_count": 22,
     "metadata": {},
     "output_type": "execute_result"
    }
   ],
   "source": [
    "df_ml_filter = pd.read_parquet('dataset/data_movies_ml.parquet')\n",
    "df_ml_filter.head()"
   ]
  },
  {
   "cell_type": "markdown",
   "metadata": {},
   "source": [
    "#### 2.4. Modelo de prueba con las siguientes variables (numéricas):\n",
    "* 'budget', \n",
    "* 'vote_average', \n",
    "* 'popularity',\n",
    "* 'release_year'"
   ]
  },
  {
   "cell_type": "code",
   "execution_count": 23,
   "metadata": {},
   "outputs": [
    {
     "name": "stdout",
     "output_type": "stream",
     "text": [
      "Las 5 películas más recomendadas para Toy Story son:\n",
      "                   title  vote_average  popularity  release_year\n",
      "                    Babe           6.0       14.40          1995\n",
      "The Hunt for Red October           7.2       15.91          1990\n",
      "       Kill Bill: Vol. 1           7.7       25.26          2003\n",
      "                Identity           7.1       17.96          2003\n",
      "       Kill Bill: Vol. 2           7.7       21.53          2004\n"
     ]
    }
   ],
   "source": [
    "# Primero, vamos a convertir la columna 'title' a una representación numérica usando TF-IDF\n",
    "vectorizer = TfidfVectorizer()\n",
    "tfidf_matrix = vectorizer.fit_transform(df_ml_filter['title'])\n",
    "\n",
    "# Luego, vamos a añadir las columnas numéricas a nuestra matriz de características\n",
    "features = np.column_stack([tfidf_matrix.toarray(),\n",
    "                            df_ml_filter['budget'], \n",
    "                            df_ml_filter['vote_average'], \n",
    "                            df_ml_filter['popularity'],\n",
    "                            df_ml_filter['release_year']])\n",
    "\n",
    "# Reindexamos el DataFrame\n",
    "data = df_ml_filter.reset_index(drop=True)\n",
    "\n",
    "# Ahora, calculamos la matriz de similitud de coseno\n",
    "similarity_matrix = cosine_similarity(features)\n",
    "\n",
    "# Para hacer recomendaciones, puedes buscar los productos más similares a un producto dado\n",
    "name_title = \"Toy Story\"  # El nombre del producto para el que quieres hacer recomendaciones\n",
    "name_films = data[data['title'] == name_title]\n",
    "\n",
    "if not name_films.empty:\n",
    "    product_index = name_films.index[0]\n",
    "    product_similarities = similarity_matrix[product_index]\n",
    "    \n",
    "    # Se obtienen los índices de las 5 películas más similares (ordenados de forma descendente), excluyendo la propia película\n",
    "    most_similar_films_indices = np.argsort(-product_similarities)[1:6]\n",
    "    most_similar_films = data.loc[most_similar_films_indices, ['title', 'vote_average', 'popularity', 'release_year']]\n",
    "    print(f\"Las 5 películas más recomendadas para {name_title} son:\")\n",
    "    print(most_similar_films.to_string(index=False))\n",
    "else:\n",
    "    print(\"Película no encontrada\")\n"
   ]
  },
  {
   "cell_type": "markdown",
   "metadata": {},
   "source": [
    "#### 2.5. Modelo de prueba con las siguientes variables (numéricas y categóricas):\n",
    "* 'budget', \n",
    "* 'vote_average', \n",
    "* 'popularity',\n",
    "* 'release_year',\n",
    "* 'genres_name"
   ]
  },
  {
   "cell_type": "code",
   "execution_count": 24,
   "metadata": {},
   "outputs": [
    {
     "name": "stdout",
     "output_type": "stream",
     "text": [
      "Las 5 películas más recomendadas para Toy Story son:\n",
      "                   title  vote_average                                 genres_name  release_year\n",
      "The Hunt for Red October           7.2                        ['Action', 'Comedy']          1990\n",
      "                    Babe           6.0 ['Adventure', 'History', 'Drama', 'Family']          1995\n",
      "       Kill Bill: Vol. 1           7.7                                  ['Comedy']          2003\n",
      "                Identity           7.1                ['Action', 'Drama', 'Crime']          2003\n",
      "       Kill Bill: Vol. 2           7.7                        ['Comedy', 'Horror']          2004\n"
     ]
    }
   ],
   "source": [
    "# Vectorizar la columna 'title' usando TF-IDF\n",
    "vectorizer = TfidfVectorizer()\n",
    "tfidf_matrix = vectorizer.fit_transform(df_ml_filter['title'])\n",
    "\n",
    "# Codificar la columna 'genres_name' usando MultiLabelBinarizer\n",
    "mlb = MultiLabelBinarizer()\n",
    "genres_encoded = mlb.fit_transform(df_ml_filter['genres_name'])\n",
    "\n",
    "# Luego, vamos a añadir las columnas numéricas y la matriz de géneros a nuestra matriz de características\n",
    "features = np.column_stack([tfidf_matrix.toarray(),\n",
    "                            df_ml_filter['budget'], \n",
    "                            df_ml_filter['vote_average'], \n",
    "                            df_ml_filter['popularity'],\n",
    "                            df_ml_filter['release_year'],\n",
    "                            genres_encoded])\n",
    "\n",
    "# Reindexamos el DataFrame\n",
    "data = df_ml_filter.reset_index(drop=True)\n",
    "\n",
    "# Ahora, calculamos la matriz de similitud de coseno\n",
    "similarity_matrix = cosine_similarity(features)\n",
    "\n",
    "# Para hacer recomendaciones, puedes buscar los productos más similares a un producto dado\n",
    "name_title = \"Toy Story\"  # El nombre de la película para la cual quieres hacer recomendaciones\n",
    "name_films = data[data['title'] == name_title]\n",
    "\n",
    "if not name_films.empty:\n",
    "    product_index = name_films.index[0]\n",
    "    product_similarities = similarity_matrix[product_index]\n",
    "    \n",
    "    # Se obtienen los índices de las 5 películas más similares (ordenados de forma descendente), excluyendo la propia película\n",
    "    most_similar_products_indices = np.argsort(-product_similarities)[1:6]\n",
    "    \n",
    "    # Obtener los títulos, vote_average y release_year de las 5 películas más similares\n",
    "    most_similar_products = data.loc[most_similar_products_indices, ['title', 'vote_average', 'genres_name', 'release_year']]\n",
    "    \n",
    "    print(f\"Las 5 películas más recomendadas para {name_title} son:\")\n",
    "    print(most_similar_products.to_string(index=False))\n",
    "else:\n",
    "    print(\"Película no encontrada\")\n"
   ]
  },
  {
   "cell_type": "markdown",
   "metadata": {},
   "source": [
    "#### 2.6. Modelo de prueba con las siguientes variables (numéricas y categóricas):\n",
    "* 'budget', \n",
    "* 'vote_average', \n",
    "* 'popularity',\n",
    "* 'release_year',\n",
    "* 'genres_name',\n",
    "* 'studios_name'."
   ]
  },
  {
   "cell_type": "code",
   "execution_count": 25,
   "metadata": {},
   "outputs": [
    {
     "name": "stdout",
     "output_type": "stream",
     "text": [
      "Las 5 películas más recomendadas para Toy Story son:\n",
      "                   title  vote_average                                 genres_name                                           studios_name  release_year\n",
      "The Hunt for Red October           7.2                        ['Action', 'Comedy'] ['Weintraub Entertainment Group', 'Elrina Investment']          1990\n",
      "                    Babe           6.0 ['Adventure', 'History', 'Drama', 'Family']                              ['Sony New Technologies']          1995\n",
      "       Kill Bill: Vol. 2           7.7                        ['Comedy', 'Horror']                                 ['ArieScope Pictures']          2004\n",
      "       Kill Bill: Vol. 1           7.7                                  ['Comedy']                          ['Metro-Goldwyn-Mayer (MGM)']          2003\n",
      "                Identity           7.1                ['Action', 'Drama', 'Crime']                                                     []          2003\n"
     ]
    }
   ],
   "source": [
    "# Vectorizar la columna 'title' usando TF-IDF\n",
    "vectorizer = TfidfVectorizer()\n",
    "tfidf_matrix = vectorizer.fit_transform(df_ml_filter['title'])\n",
    "\n",
    "# Codificar la columna 'genres_name' y 'studios_name' usando MultiLabelBinarizer\n",
    "mlb = MultiLabelBinarizer()\n",
    "genres_encoded = mlb.fit_transform(df_ml_filter['genres_name'])\n",
    "studios_encoded = mlb.fit_transform(df_ml_filter['studios_name'])\n",
    "\n",
    "# Luego, vamos a añadir las columnas numéricas y la matriz de géneros a nuestra matriz de características\n",
    "features = np.column_stack([tfidf_matrix.toarray(),\n",
    "                            df_ml_filter['budget'], \n",
    "                            df_ml_filter['vote_average'], \n",
    "                            df_ml_filter['popularity'],\n",
    "                            df_ml_filter['release_year'],\n",
    "                            genres_encoded,\n",
    "                            studios_encoded])\n",
    "\n",
    "# Reindexamos el DataFrame\n",
    "data = df_ml_filter.reset_index(drop=True)\n",
    "\n",
    "# Ahora, calculamos la matriz de similitud de coseno\n",
    "similarity_matrix = cosine_similarity(features)\n",
    "\n",
    "# Para hacer recomendaciones, puedes buscar los productos más similares a un producto dado\n",
    "name_title = \"Toy Story\"  # El nombre de la película para la cual quieres hacer recomendaciones\n",
    "name_films = data[data['title'] == name_title]\n",
    "\n",
    "if not name_films.empty:\n",
    "    product_index = name_films.index[0]\n",
    "    product_similarities = similarity_matrix[product_index]\n",
    "    \n",
    "    # Se obtienen los índices de las 5 películas más similares (ordenados de forma descendente), excluyendo la propia película\n",
    "    most_similar_products_indices = np.argsort(-product_similarities)[1:6]\n",
    "    \n",
    "    # Obtener los títulos, vote_average y release_year de las 5 películas más similares\n",
    "    most_similar_products = data.loc[most_similar_products_indices, ['title', 'vote_average', 'genres_name', 'studios_name', 'release_year']]\n",
    "    \n",
    "    print(f\"Las 5 películas más recomendadas para {name_title} son:\")\n",
    "    print(most_similar_products.to_string(index=False))\n",
    "else:\n",
    "    print(\"Película no encontrada\")\n"
   ]
  },
  {
   "cell_type": "markdown",
   "metadata": {},
   "source": [
    "#### 2.7. Observaciones\n",
    "* Se decide que, dado que algoritmo con las 4 variables numéricas y 2 categóricas corre en menos de 5 segundos, se decide formular la función para el endpoint con este modelo. "
   ]
  },
  {
   "cell_type": "markdown",
   "metadata": {},
   "source": [
    "#### 2.8. Función para el endpoint de recomendación:"
   ]
  },
  {
   "cell_type": "code",
   "execution_count": 26,
   "metadata": {},
   "outputs": [],
   "source": [
    "def recomendacion(df, titulo):\n",
    "    # Vectorizar la columna 'title' usando TF-IDF\n",
    "    vectorizer = TfidfVectorizer()\n",
    "    tfidf_matrix = vectorizer.fit_transform(df['title'])\n",
    "\n",
    "    # Codificar la columna 'genres_name' y 'studios_name' usando MultiLabelBinarizer\n",
    "    mlb = MultiLabelBinarizer()\n",
    "    genres_encoded = mlb.fit_transform(df['genres_name'])\n",
    "    studios_encoded = mlb.fit_transform(df['studios_name'])\n",
    "\n",
    "    # Luego, vamos a añadir las columnas numéricas y la matriz de géneros a nuestra matriz de características\n",
    "    features = np.column_stack([tfidf_matrix.toarray(),\n",
    "                                df['budget'], \n",
    "                                df['vote_average'], \n",
    "                                df['popularity'],\n",
    "                                df['release_year'],\n",
    "                                genres_encoded,\n",
    "                                studios_encoded])\n",
    "\n",
    "    # Reindexamos el DataFrame\n",
    "    data = df.reset_index(drop=True)\n",
    "\n",
    "    # Ahora, calculamos la matriz de similitud de coseno\n",
    "    similarity_matrix = cosine_similarity(features)\n",
    "\n",
    "    # Para hacer recomendaciones, puedes buscar las películas más similares a una película dada\n",
    "    name_films = data[data['title'] == titulo]\n",
    "\n",
    "    if not name_films.empty:\n",
    "        product_index = name_films.index[0]\n",
    "        product_similarities = similarity_matrix[product_index]\n",
    "\n",
    "        # Se obtienen los índices de las 5 películas más similares (ordenados de forma descendente), excluyendo la propia película\n",
    "        most_similar_products_indices = np.argsort(-product_similarities)[1:6]\n",
    "\n",
    "        # Obtener los títulos de las 5 películas más similares\n",
    "        most_similar_products_titles = data.loc[most_similar_products_indices, 'title'].tolist()\n",
    "\n",
    "        return {f'Las 5 películas más similares a {titulo} son': most_similar_products_titles}\n",
    "    else:\n",
    "        return \"Película no encontrada\""
   ]
  },
  {
   "cell_type": "code",
   "execution_count": 27,
   "metadata": {},
   "outputs": [
    {
     "data": {
      "text/plain": [
       "{'Las 5 películas más similares a Toy Story son': ['The Hunt for Red October',\n",
       "  'Babe',\n",
       "  'Kill Bill: Vol. 2',\n",
       "  'Kill Bill: Vol. 1',\n",
       "  'Identity']}"
      ]
     },
     "execution_count": 27,
     "metadata": {},
     "output_type": "execute_result"
    }
   ],
   "source": [
    "recomendacion(df_ml_filter, 'Toy Story')"
   ]
  }
 ],
 "metadata": {
  "kernelspec": {
   "display_name": "venv",
   "language": "python",
   "name": "python3"
  },
  "language_info": {
   "codemirror_mode": {
    "name": "ipython",
    "version": 3
   },
   "file_extension": ".py",
   "mimetype": "text/x-python",
   "name": "python",
   "nbconvert_exporter": "python",
   "pygments_lexer": "ipython3",
   "version": "3.11.5"
  }
 },
 "nbformat": 4,
 "nbformat_minor": 2
}
